{
 "cells": [
  {
   "cell_type": "markdown",
   "metadata": {
    "nbpresent": {
     "id": "20ba1448-5cd5-401f-a2cd-6809231692bb"
    }
   },
   "source": [
    "# Python Basics\n",
    "\n",
    "Python is a high-level, dynamically typed, interpreted programming language. Python code is often said to be almost like pseudocode, since it allows you to express very powerful ideas in very few lines of code while being very readable. The official introduction to Python is (it will sound technical, but you'll get to appreciate this statement more as we progress through the course):\n",
    "\n",
    "\"_Python is an easy to learn, powerful programming language. It has efficient high-level data structures and a simple but effective approach to object-oriented programming. Python's elegant syntax and dynamic typing, together with its interpreted nature, make it an ideal language for scripting and rapid application development in many areas on most platforms_\"\n",
    "\n",
    "## Features of Python\n",
    "\n",
    "#### Simple\n",
    "\n",
    "Python is a simple and minimalistic language. Reading a good Python program feels almost like reading English, although very strict English! This pseudo-code nature of Python is one of its greatest strengths. It allows you to concentrate on the solution to the problem rather than the language itself.\n",
    "\n",
    "#### Easy to Learn\n",
    "\n",
    "As you will see, Python is extremely easy to get started with. Python has an extraordinarily simple syntax.\n",
    "\n",
    "#### Free and Open Source\n",
    "\n",
    "Python is an example of a FLOSS (Free/Libré and Open Source Software). In simple terms, you can freely distribute copies of this software, read its source code, make changes to it, and use pieces of it in new free programs. FLOSS is based on the concept of a community which shares knowledge. This is one of the reasons why Python is so good - it has been created and is constantly improved by a community who just want to see a better Python.\n",
    "\n",
    "#### High Level Language\n",
    "\n",
    "When you write programs in Python, you never need to bother about the\n",
    "low-level details such as managing the memory used by your program, etc.\n",
    "\n",
    "#### Portable\n",
    "\n",
    "Due to its open-source nature, Python has been ported to (i.e. changed to make it work on) many platforms. All your Python programs can work on any of these platforms without requiring any changes at all if you are careful enough to avoid any system-dependent features.\n",
    "\n",
    "You can use Python on Linux, Windows, FreeBSD, Macintosh, Solaris, OS/2, Amiga, AROS, AS/400, BeOS, OS/390, z/OS, Palm OS, QNX, VMS, Psion, Acorn RISC OS, VxWorks, PlayStation, Sharp Zaurus, Windows CE and even PocketPC!\n",
    "\n",
    "#### Interpreted\n",
    "\n",
    "This requires a bit of explanation.\n",
    "\n",
    "A program written in a compiled language like C or C++ is converted from the source language i.e. C or C++ into a language that is spoken by your computer (binary code i.e. 0s and 1s) using a compiler with various options. When you run the program, the linker/loader software copies the program from hard disk to memory and starts running it.\n",
    "\n",
    "Python, on the other hand, does not need compilation to binary. You just run the program directly from the source code. Internally, Python converts the source code into an intermediate form called bytecodes and then translates this into the native language of your computer and then runs it. All this, actually, makes using Python much easier since you don’t have to worry about compiling the program, making sure that the proper libraries are linked and loaded, etc. This also makes your Python programs much more portable, since you can just copy your Python program onto another computer and it just works!\n",
    "\n",
    "#### Object Oriented\n",
    "\n",
    "Python supports procedure-oriented programming as well as object-oriented programming. In procedure-oriented languages, the program is built around procedures or functions which are nothing but reusable pieces of programs. In object-oriented languages, the program is built around objects which combine data and functionality. Python has a very powerful but simplistic way of doing OOP, especially when compared to big languages like C++ or Java.\n",
    "\n",
    "#### Extensive Libraries\n",
    "\n",
    "The Python Standard Library is huge indeed. It can help you do various things involving regular expressions, documentation generation, unit testing, threading, databases, web browsers, CGI, FTP, email, XML, XML-RPC, HTML, WAV files, cryptography, GUI (graphical user interfaces), and other system-dependent stuff. Remember, all this is always available wherever Python is installed. This is called the Batteries Included philosophy of Python.\n",
    "\n",
    "Besides the standard library, there are various other high-quality libraries which you can find at the [Python Package Index](http://pypi.python.org/pypi).\n",
    "\n",
    "\n",
    "## Python Versions\n",
    "\n",
    "There are currently two different supported versions of Python, 2.7 and 3.8. Somewhat confusingly, Python 3.0 introduced many backwards-incompatible changes to the language, so programs written in 2.7 may not work under 3.8 and vice versa. For this class all programs will use Python 3.8.\n",
    "\n",
    "You can check you Python version at the command line by running `python --version`\n",
    "\n",
    "## Your First Python Program\n",
    "\n",
    "There is a tradition that whenever you learn a new programming language, the first program that you write and run is the 'Hello World' program - all it does is just say 'Hello World' when you run it. As Simon Cozens (the author of 'Beginning Perl' book) puts it, it is the \"traditional incantation to the programming gods to help you learn the language better\". We'll be running example programs on Repl, we will eventually move to Spyder for writing our programs.\n",
    "\n",
    "The code below is all you need to do to say \"Hello World\":\n"
   ]
  },
  {
   "cell_type": "code",
   "execution_count": 1,
   "metadata": {
    "nbpresent": {
     "id": "33aa81db-c744-48c6-aa58-53ea42f8736b"
    }
   },
   "outputs": [
    {
     "name": "stdout",
     "output_type": "stream",
     "text": [
      "Programming is fun!!!\n"
     ]
    }
   ],
   "source": [
    "print(\"Programming is fun!!!\")"
   ]
  },
  {
   "cell_type": "markdown",
   "metadata": {
    "nbpresent": {
     "id": "3fd39e84-13ed-460d-a845-20d081cea050"
    }
   },
   "source": [
    "In the above code, the function `print` is used to display something to screen. In this case, the `string`, that is the text within the double quotes, is what will be displayed. Try changing this text to see how this works.\n",
    "\n",
    "A Python program is composed of _statements_. In our first program, we have only one statement. In this statement, we call the `print` _function_ which just prints the text `'Hello World'`. We will learn about functions in detail later on, what you should understand now is that whatever you supply in the parenthesis will be printed back to the screen.\n",
    "\n",
    "## Basics\n",
    "\n",
    "Just printing 'Hello World' is not enough. You want to do more than that - you want to take some input, manipulate it and get something out of it. We can achieve this in Python using constants and variables, and we'll learn some other concepts as well.\n",
    "\n",
    "### Comments\n",
    "\n",
    "_Comments_ are any text to the right of the symbol `#` and is mainly useful as notes for the reader of the program. For example:"
   ]
  },
  {
   "cell_type": "code",
   "execution_count": 2,
   "metadata": {
    "nbpresent": {
     "id": "303d7bb9-ed6f-4cc4-85f3-9629ce1e0c32"
    }
   },
   "outputs": [
    {
     "name": "stdout",
     "output_type": "stream",
     "text": [
      "Hello World\n"
     ]
    }
   ],
   "source": [
    "print(\"Hello World\")  # Note that print is a function"
   ]
  },
  {
   "cell_type": "markdown",
   "metadata": {
    "nbpresent": {
     "id": "d3bebaa7-5964-4510-944e-8acf6f43b668"
    }
   },
   "source": [
    "or"
   ]
  },
  {
   "cell_type": "code",
   "execution_count": 3,
   "metadata": {
    "nbpresent": {
     "id": "2842777f-13cf-4dc8-a527-ea5e8097d495"
    }
   },
   "outputs": [
    {
     "name": "stdout",
     "output_type": "stream",
     "text": [
      "Hello World\n"
     ]
    }
   ],
   "source": [
    "# Note that print is a function\n",
    "print(\"Hello World\")"
   ]
  },
  {
   "cell_type": "markdown",
   "metadata": {
    "nbpresent": {
     "id": "e70a5342-d5c7-4b5e-900f-03b4b65ca27a"
    }
   },
   "source": [
    "Use as many helpful comments as you can in your program to:\n",
    "- explain assumptions\n",
    "- explain important decisions\n",
    "- explain important details\n",
    "- explain problems you're trying to solve\n",
    "- explain problems you're trying to overcome in your program, etc...\n",
    "\n",
    "_\"Code tells you how, comments should tell you why.\"_\n",
    "\n",
    "This is useful for readers of your programs so that they can easily understand what the program is doing. Remember, that person can be yourself in two months' time!\n",
    "\n",
    "\n",
    "### Literal Constants\n",
    "\n",
    "An example of a literal is a number like `5`, `1.23`, or a string like `'This is a string'` or `\"It's a string!\"`. It is called a literal because it is _literal_ - you use its value literally. The number 2 always represents itself and nothing else - it is a _constant_ because its value cannot be changed. Hence, all these are referred to as literal constants\n",
    "\n",
    "### Numbers\n",
    "\n",
    "Numbers are mainly of two types - integers and floats. An example of an integer is `2` which is just a whole number. Examples of floating point numbers (or _floats_ for short) are `3.23` and `52.3E-4`. The `E` notation indicates powers of 10. In this case, `52.3E-4` means $52.3\\times10^{-4}$, or `0.00523`."
   ]
  },
  {
   "cell_type": "code",
   "execution_count": 4,
   "metadata": {
    "nbpresent": {
     "id": "d2c9a76e-87c2-4575-9fe2-fedca8623e27"
    }
   },
   "outputs": [
    {
     "name": "stdout",
     "output_type": "stream",
     "text": [
      "5\n"
     ]
    }
   ],
   "source": [
    "print(5)"
   ]
  },
  {
   "cell_type": "markdown",
   "metadata": {
    "nbpresent": {
     "id": "6971fa23-6384-40aa-adbe-a41df39d442d"
    }
   },
   "source": [
    "### Strings\n",
    "\n",
    "A string is a _sequence_ of _characters_. Strings are basically just a bunch of words. You will be using strings in almost every Python program that you write, so pay attention to the following part.\n",
    "\n",
    "#### Single Quote\n",
    "\n",
    "You can specify strings using single quotes as `'Quote me on this'`. All white space, that is spaces and tabs, are preserved as-is."
   ]
  },
  {
   "cell_type": "code",
   "execution_count": 5,
   "metadata": {
    "nbpresent": {
     "id": "139f3cb1-2cc3-4960-af93-caff9216f34b"
    }
   },
   "outputs": [
    {
     "name": "stdout",
     "output_type": "stream",
     "text": [
      "Quote me on this\n"
     ]
    }
   ],
   "source": [
    "print('Quote me on this')"
   ]
  },
  {
   "cell_type": "markdown",
   "metadata": {
    "nbpresent": {
     "id": "a31f6bf3-9853-4f55-b2d8-ea197cbdd8b5"
    }
   },
   "source": [
    "#### Double Quote\n",
    "\n",
    "Strings in double quotes work exactly the same way as strings in single quotes. An example is `\"What's your name?\"`"
   ]
  },
  {
   "cell_type": "code",
   "execution_count": 6,
   "metadata": {
    "nbpresent": {
     "id": "625c00b8-5159-4230-93ce-e97bdee23233"
    }
   },
   "outputs": [
    {
     "name": "stdout",
     "output_type": "stream",
     "text": [
      "What's your name?\n"
     ]
    }
   ],
   "source": [
    "print(\"What's your name?\")"
   ]
  },
  {
   "cell_type": "markdown",
   "metadata": {
    "nbpresent": {
     "id": "e32f4e43-be11-4575-9965-91c650187289"
    }
   },
   "source": [
    "#### Triple Quotes\n",
    "\n",
    "You can specify multi-line strings using triple quotes - (`\"\"\"` or `'''`). You can use single quotes and double quotes freely within the triple quotes. An example is:\n",
    "\n",
    "`''' This is a multi-line string. This is the first line.\n",
    "This is the second line.\n",
    "\"What's your name?,\" I asked.\n",
    "He said \"Bond, James Bond.\n",
    "'''`"
   ]
  },
  {
   "cell_type": "code",
   "execution_count": 7,
   "metadata": {
    "nbpresent": {
     "id": "22965e0b-b80a-451c-89ae-276fea1e88dc"
    }
   },
   "outputs": [
    {
     "name": "stdout",
     "output_type": "stream",
     "text": [
      "This is a multi-line string. This is the first line.\n",
      "This is the second line.\n",
      "\"What's your name?,\" I asked.\n",
      "He said \"Bond, James Bond.\n",
      "\n"
     ]
    }
   ],
   "source": [
    "print('''This is a multi-line string. This is the first line.\n",
    "This is the second line.\n",
    "\"What's your name?,\" I asked.\n",
    "He said \"Bond, James Bond.\n",
    "''')"
   ]
  },
  {
   "cell_type": "markdown",
   "metadata": {
    "nbpresent": {
     "id": "e6d7be8e-9108-4e42-8c56-ead60a8dfc6a"
    }
   },
   "source": [
    "#### String Are Immutable\n",
    "\n",
    "This means that once you have created a string, you cannot change it. Although this might seem like a bad thing, it really isn't. We will see why this is not a limitation in the various programs we see later on.\n",
    "\n",
    "#### f-Strings\n",
    "\n",
    "Sometimes we may want to construct strings from other information. f-Strings were introduced in Python 3.8, and they simplify the way in which strings and other information can be combined to create the output shown. Have a look at the code below:"
   ]
  },
  {
   "cell_type": "code",
   "execution_count": 1,
   "metadata": {
    "nbpresent": {
     "id": "5c907b72-2cff-4a8d-be07-8838ef802fe7"
    }
   },
   "outputs": [
    {
     "name": "stdout",
     "output_type": "stream",
     "text": [
      "Zeppi is 18 years old.\n",
      "Zeppi is quite proficient in Python.\n"
     ]
    }
   ],
   "source": [
    "age = 18\n",
    "name = 'Zeppi'\n",
    "\n",
    "print(f'{name} is {age} years old.')\n",
    "print(f'{name} is quite proficient in Python.')"
   ]
  },
  {
   "cell_type": "markdown",
   "metadata": {
    "nbpresent": {
     "id": "223ad490-6892-45e5-ab1d-87ee3caa3da7"
    }
   },
   "source": [
    "The first things to note is that we have now started the string with the letter f (F is valid as well). This tells Python that what follows is an f-String. Within the string, we use curly brackets to let Python know that we would like to print the value of a variable in that place. So, `f\"I am {name}\"` becomes `I am Zeppi`.\n",
    "\n",
    "Notice that we could have achieved the same using string concatenation, however this is messier and less efficient than using the `format` function:"
   ]
  },
  {
   "cell_type": "code",
   "execution_count": 9,
   "metadata": {
    "nbpresent": {
     "id": "f8d814f3-01e1-4f1f-b483-1f455d32d9a1"
    }
   },
   "outputs": [
    {
     "name": "stdout",
     "output_type": "stream",
     "text": [
      "Zeppi is 18 years old\n"
     ]
    }
   ],
   "source": [
    "print(name + ' is ' + str(age) + ' years old')"
   ]
  },
  {
   "cell_type": "markdown",
   "metadata": {
    "nbpresent": {
     "id": "cf6a5a94-0ee0-4c11-8deb-cd76dffc59c1"
    }
   },
   "source": [
    "We can define more details in the curly brackets, for example, we can specify to how many significant figures a number should be printed:"
   ]
  },
  {
   "cell_type": "code",
   "execution_count": 4,
   "metadata": {
    "nbpresent": {
     "id": "e73a5a92-e144-4626-a357-0b50ed6a9970"
    }
   },
   "outputs": [
    {
     "name": "stdout",
     "output_type": "stream",
     "text": [
      "0.333\n"
     ]
    }
   ],
   "source": [
    "# decimal (.) precision of 3 for float '0.333'\n",
    "print (f'{1/3:.3f}'.format(1/3))"
   ]
  },
  {
   "cell_type": "markdown",
   "metadata": {},
   "source": [
    "#### String methods\n",
    "\n",
    "String objects have a bunch of useful methods, for example (you can find a list of all string methods [here](https://docs.python.org/3/library/stdtypes.html#string-methods). Note that the below is for reference only):"
   ]
  },
  {
   "cell_type": "code",
   "execution_count": 12,
   "metadata": {
    "scrolled": true
   },
   "outputs": [
    {
     "name": "stdout",
     "output_type": "stream",
     "text": [
      "Hello world\n",
      "HELLO WORLD\n",
      "hello world\n",
      "         hello World\n",
      "   hello World    \n",
      "he(ell)(ell)o Wor(ell)d\n",
      "hello world\n"
     ]
    }
   ],
   "source": [
    "s = 'hello World'\n",
    "\n",
    "# Capitalize a string\n",
    "print(s.capitalize())    \n",
    "\n",
    "# Convert a string to uppercase\n",
    "print(s.upper())         \n",
    "\n",
    "# Convert a lower to uppercase\n",
    "print(s.lower())         \n",
    "\n",
    "# Right-justify a string, padding with spaces\n",
    "print(s.rjust(20))       \n",
    "\n",
    "# Center a string, padding with spaces\n",
    "print(s.center(18))      \n",
    "\n",
    "# Replace all instances of one substring with another\n",
    "print(s.replace('l', '(ell)'))      \n",
    "\n",
    "# Strip leading and trailing whitespace\n",
    "print(\"   hello world   \".strip())  "
   ]
  },
  {
   "cell_type": "code",
   "execution_count": 13,
   "metadata": {},
   "outputs": [
    {
     "name": "stdout",
     "output_type": "stream",
     "text": [
      "True\n",
      "True\n",
      "6\n",
      "Brazil_*_Russia_*_India_*_China\n",
      "['Welcome', 'to', 'my', 'world']\n"
     ]
    }
   ],
   "source": [
    "text = 'hello world'\n",
    "\n",
    "# The startswith method is used to find out whether the string \n",
    "# starts with the given string\n",
    "print(text.startswith('hell'))\n",
    "\n",
    "# The in operator is used to check if a given string is a \n",
    "# part of the string\n",
    "print('w' in text)\n",
    "\n",
    "# The find method is used to locate the position of the \n",
    "# given substring within the string; find returns -1 if \n",
    "# it is unsuccessful in finding the substring.\n",
    "print(text.find('world'))\n",
    "\n",
    "# The join method joins the items of a sequence with the \n",
    "# string acting as a delimiter between each item of the \n",
    "# sequence and returns a bigger string generated from this. \n",
    "# We'll cover lists later on\n",
    "delimiter = '_*_'\n",
    "mylist = ['Brazil', 'Russia', 'India', 'China']\n",
    "print(delimiter.join(mylist))\n",
    "\n",
    "# The split method will split a string into multiple substring \n",
    "# by separating it when finding a specific character\n",
    "text = \"Welcome to my world\"\n",
    "print(text.split(\" \"))"
   ]
  },
  {
   "cell_type": "markdown",
   "metadata": {
    "nbpresent": {
     "id": "63079049-e7e2-4957-8b69-4ef4021d9079"
    }
   },
   "source": [
    "#### Escape Sequences\n",
    "\n",
    "Suppose, you want to have a string which contains a single quote ('), how will\n",
    "you specify this string? For example, the string `What's your name?`. You\n",
    "cannot specify `'What's your name?'` because Python will be confused as to\n",
    "where the string starts and ends. So, you will have to specify that this single\n",
    "quote does not indicate the end of the string. This can be done with the help of\n",
    "what is called an _escape sequence_. You specify the single quote as `\\'` - notice\n",
    "the backslash. Now, you can specify the string as `'What\\'s your name?'`.\n",
    "\n",
    "Another way of specifying this specific string would be `\"What’s your name?\"`\n",
    "i.e. using double quotes. Similarly, you have to use an escape sequence for using a double quote itself in a double quoted string. Also, you have to indicate the backslash itself using the escape sequence `\\\\`.\n",
    "\n",
    "What if you wanted to specify a two-line string? One way is to use a triple\n",
    "quoted string, or you can use an escape sequence for the\n",
    "newline character - `\\n` to indicate the start of a new line. An example is `This is the first line\\nThis is the second line`. Another useful escape sequence to know is the tab - `\\t`. There are many more escape sequences."
   ]
  },
  {
   "cell_type": "code",
   "execution_count": 14,
   "metadata": {},
   "outputs": [
    {
     "name": "stdout",
     "output_type": "stream",
     "text": [
      "What's your name?\n",
      "What's your name?\n",
      "First line. \n",
      "Second line.\n",
      "First line.\n",
      "Second line.\n",
      "Some space between this\t\tand this\n"
     ]
    }
   ],
   "source": [
    "print(\"What's your name?\")\n",
    "print('What\\'s your name?')\n",
    "\n",
    "print(\"\"\"First line. \n",
    "Second line.\"\"\")\n",
    "print(\"First line.\\nSecond line.\")\n",
    "\n",
    "print(\"Some space between this\\t\\tand this\")"
   ]
  },
  {
   "cell_type": "markdown",
   "metadata": {},
   "source": [
    "One thing to note is that in a string, a single backslash at the end of the line\n",
    "indicates that the string is continued in the next line, but no newline is added. For example, the below two statements are equivalent:"
   ]
  },
  {
   "cell_type": "code",
   "execution_count": 15,
   "metadata": {},
   "outputs": [
    {
     "name": "stdout",
     "output_type": "stream",
     "text": [
      "This is the first sentence. This is the second sentence.\n",
      "This is the first sentence. This is the second sentence.\n"
     ]
    }
   ],
   "source": [
    "print(\"This is the first sentence. \\\n",
    "This is the second sentence.\")\n",
    "print(\"This is the first sentence. This is the second sentence.\")"
   ]
  },
  {
   "cell_type": "markdown",
   "metadata": {},
   "source": [
    "### Variable\n",
    "\n",
    "Using just literal constants can soon become boring - we need some way of storing any information and maipulate them as well. This is where *variables* come into the picture. Variables are exactly what the name implies - their value can vary, that is you can store anything using a variable. Variables are just parts of your computer's memory where you store some information. Unlike literal constants, you need some method of accessing these variables and hence you give them names.\n",
    "\n",
    "#### Identifier naming\n",
    "\n",
    "Variables are examples of identifiers. *Identifiers* are names given to identify *something*. There are some rules you have to follow for naming identifiers:\n",
    "\n",
    "- The first character of the identifier must be a letter of the alphabet or an underscore\n",
    "- The rest of the identifier name can consist of letters, underscores or digits\n",
    "- Identifier names are case-sensitive. For example, `myname` and `myName` are **not** the same. Note the lowercase `n` in the former and the uppercase `N` in the latter\n",
    "- Examples of *valid* identifiers are `i`, `__my_name` and `name_23`. Examples of *invalid* identifier names are `2things`, `this is spaced out`, `my-name` and `\"this_is_in_quotes\"`\n",
    "\n",
    "#### Data Types\n",
    "\n",
    "Variables can hold values of different types called **data types**. The basic types are numbers and strings, which we have already discussed.\n",
    "\n",
    "Remember: Python refers to anything used in a program as an *object*. This is meant in the generic sense. Instead of saying *something*, we say *object*.\n",
    "\n",
    "### Your first Spyder Python program\n",
    "\n",
    "We will now see how to use variables along with literal constants. There will be a demo of this in class. Open up Spyder and create a new file. Copy the following example and run it in Spyder (press the 'play' button):"
   ]
  },
  {
   "cell_type": "code",
   "execution_count": 16,
   "metadata": {
    "nbpresent": {
     "id": "3db985d5-34c4-4d57-9c40-8bd28ada961d"
    }
   },
   "outputs": [
    {
     "name": "stdout",
     "output_type": "stream",
     "text": [
      "5\n",
      "6\n"
     ]
    }
   ],
   "source": [
    "i = 5\n",
    "print(i)\n",
    "i = i + 1\n",
    "print(i)"
   ]
  },
  {
   "cell_type": "markdown",
   "metadata": {
    "nbpresent": {
     "id": "8dd0646d-9d60-4513-9bfd-61af28a58221"
    }
   },
   "source": [
    "Here's how this program works. First we asign the literal constant value `5` to the variables `i` using the assignment operator (`=`). This line is called a statement because it states that something should be done and in this case, we connect the variables name `i` to the value `5`. Next, we print the value of i using the `print` function which, unsurprisingly, just prints the value of the variable to the screen. Then we add `1` to the value stored in `i` and store it back. We then print it and expectedly, we get the value `6`.\n",
    "\n",
    "#### Indentation\n",
    "\n",
    "Whitespace is important in Python. Actually, **whitespace at the beginning of the line is important**. This is called **indentation**. Leading whitespaces (spaces and tabs) at the beginning of the line is used to determine the indentation level of the line, which in turn is used to determine the grouping of statements. This means that statements which go together **must** have the same indentation. Each such set of statements is called a **block**. We will see examples of how blocks are important in later lectures. \n",
    "\n",
    "One thing you should remember is that wrong indentation can give rise to errors. For example, the following will generate an error."
   ]
  },
  {
   "cell_type": "code",
   "execution_count": 17,
   "metadata": {
    "nbpresent": {
     "id": "65eedccb-209f-4a42-873f-546bd696304f"
    }
   },
   "outputs": [
    {
     "ename": "IndentationError",
     "evalue": "unexpected indent (<ipython-input-17-8ec3770421bc>, line 3)",
     "output_type": "error",
     "traceback": [
      "\u001b[0;36m  File \u001b[0;32m\"<ipython-input-17-8ec3770421bc>\"\u001b[0;36m, line \u001b[0;32m3\u001b[0m\n\u001b[0;31m    print('Value is ', i)\u001b[0m\n\u001b[0m    ^\u001b[0m\n\u001b[0;31mIndentationError\u001b[0m\u001b[0;31m:\u001b[0m unexpected indent\n"
     ]
    }
   ],
   "source": [
    "i = 5\n",
    " # Error! Notice a single space at the start of the line\n",
    " print('Value is ', i) \n",
    "print('I repeat, the value is ', i)"
   ]
  },
  {
   "cell_type": "markdown",
   "metadata": {
    "nbpresent": {
     "id": "e379610c-9ab7-479a-b8ca-16db58f57755"
    }
   },
   "source": [
    "Notice that there is a single space at the beginning of the second line. The error indicated by Python tells us that the syntax of the program is invalid, that is the program was not properly written. What this means to you is that *you cannot arbitrarily start new blocks of statements* (except for the defaul main block which you have been using all along). Cases where you can use new blocks will be detailed in later lectures.\n",
    "\n",
    "**How to indent**: Use only spaces for indentation, with a tab stop of 4 spaces. Spyder will automatically do this for you. Make sure you use a consistent number of spaces for indentation, otherwise your program will show errors."
   ]
  },
  {
   "cell_type": "markdown",
   "metadata": {},
   "source": [
    "### Operators and Expression\n",
    "\n",
    "Most statements that you write will contain *expressions*. A simple example of an expression is `2 + 3`. An expression can be broken down into operators and operands. *Operators* are functionality that do something and can be represented by symbols such as `+` or by special keywords. Operators require some data to operate on and such data are called *operands*. In this case, `2` and `3` are operands.\n",
    "\n",
    "#### Operators\n",
    "\n",
    "We will briefly take a look at the operators and their usage. Note that you can evaluate the expressions in the examples using the online interpreter. You should also have IPython installed, which is better than the standard python interpreter. Launch it by finding ipython in your installation."
   ]
  },
  {
   "cell_type": "code",
   "execution_count": 2,
   "metadata": {},
   "outputs": [
    {
     "data": {
      "text/plain": [
       "5"
      ]
     },
     "execution_count": 2,
     "metadata": {},
     "output_type": "execute_result"
    }
   ],
   "source": [
    "2 + 3"
   ]
  },
  {
   "cell_type": "markdown",
   "metadata": {},
   "source": [
    "**+ (plus)**: Adds two objects"
   ]
  },
  {
   "cell_type": "code",
   "execution_count": 1,
   "metadata": {},
   "outputs": [
    {
     "data": {
      "text/plain": [
       "8"
      ]
     },
     "execution_count": 1,
     "metadata": {},
     "output_type": "execute_result"
    }
   ],
   "source": [
    "3 + 5"
   ]
  },
  {
   "cell_type": "code",
   "execution_count": 3,
   "metadata": {},
   "outputs": [
    {
     "data": {
      "text/plain": [
       "'ab'"
      ]
     },
     "execution_count": 3,
     "metadata": {},
     "output_type": "execute_result"
    }
   ],
   "source": [
    "'a' + 'b'"
   ]
  },
  {
   "cell_type": "markdown",
   "metadata": {},
   "source": [
    "**- (minues)**:  Gives the subtraction of one number from the other; if the first operand is absent it is assumed to be zero"
   ]
  },
  {
   "cell_type": "code",
   "execution_count": null,
   "metadata": {},
   "outputs": [],
   "source": [
    "-5.2"
   ]
  },
  {
   "cell_type": "code",
   "execution_count": null,
   "metadata": {},
   "outputs": [],
   "source": [
    "50 - 24"
   ]
  },
  {
   "cell_type": "markdown",
   "metadata": {},
   "source": [
    "*** (multiply)**: Gives the multiplication of two numbers or returns the string repeated that many times"
   ]
  },
  {
   "cell_type": "code",
   "execution_count": null,
   "metadata": {},
   "outputs": [],
   "source": [
    "2 * 3"
   ]
  },
  {
   "cell_type": "code",
   "execution_count": null,
   "metadata": {},
   "outputs": [],
   "source": [
    "'la' * 3"
   ]
  },
  {
   "cell_type": "markdown",
   "metadata": {},
   "source": [
    "**** (power) **: Returns `x` to the power of `y`"
   ]
  },
  {
   "cell_type": "code",
   "execution_count": null,
   "metadata": {},
   "outputs": [],
   "source": [
    "3 ** 4"
   ]
  },
  {
   "cell_type": "markdown",
   "metadata": {},
   "source": [
    "** / (divide):** Divide `x` by `y`"
   ]
  },
  {
   "cell_type": "code",
   "execution_count": null,
   "metadata": {},
   "outputs": [],
   "source": [
    "4 / 3"
   ]
  },
  {
   "cell_type": "markdown",
   "metadata": {},
   "source": [
    "**// (floor division)**: Returns the floor of the quotient"
   ]
  },
  {
   "cell_type": "code",
   "execution_count": 4,
   "metadata": {},
   "outputs": [
    {
     "data": {
      "text/plain": [
       "1"
      ]
     },
     "execution_count": 4,
     "metadata": {},
     "output_type": "execute_result"
    }
   ],
   "source": [
    "4 // 3"
   ]
  },
  {
   "cell_type": "markdown",
   "metadata": {},
   "source": [
    "**% (modulo)**: Returns the remainder of the division"
   ]
  },
  {
   "cell_type": "code",
   "execution_count": null,
   "metadata": {},
   "outputs": [],
   "source": [
    "8 % 3"
   ]
  },
  {
   "cell_type": "markdown",
   "metadata": {},
   "source": [
    "**<< (left shift)**: Shifts the bits of the number to the left by the number of bits specified. (Each number is represented in memory by bits or binary digits, that is 0 and 1)"
   ]
  },
  {
   "cell_type": "code",
   "execution_count": null,
   "metadata": {},
   "outputs": [],
   "source": [
    "2 << 2 # 2 is represented by 10 in bits, left shifting by 2 \n",
    "       # bits gives 1000 which represents the decimal 8"
   ]
  },
  {
   "cell_type": "markdown",
   "metadata": {},
   "source": [
    "**>> (right shift)**: Shifts the bits of the number to the right by the number of bits specified"
   ]
  },
  {
   "cell_type": "code",
   "execution_count": null,
   "metadata": {
    "collapsed": true
   },
   "outputs": [],
   "source": [
    "11 > 1 # 11 is represented in bits by 1011 which when right \n",
    "       # shifted by 1 bit gives 101 which is the decimal 5"
   ]
  },
  {
   "cell_type": "markdown",
   "metadata": {},
   "source": [
    "**& (bit-wise AND)**: Bit-wise AND of the number"
   ]
  },
  {
   "cell_type": "code",
   "execution_count": null,
   "metadata": {
    "collapsed": true
   },
   "outputs": [],
   "source": [
    "5 & 3"
   ]
  },
  {
   "cell_type": "markdown",
   "metadata": {},
   "source": [
    "**| (bit-wise OR)**: Bit-wise OR of the nunmber"
   ]
  },
  {
   "cell_type": "code",
   "execution_count": null,
   "metadata": {
    "collapsed": true
   },
   "outputs": [],
   "source": [
    "5 | 3"
   ]
  },
  {
   "cell_type": "markdown",
   "metadata": {},
   "source": [
    "**^ (bit-wise XOR)**: Bit-wise XOR of the number"
   ]
  },
  {
   "cell_type": "code",
   "execution_count": null,
   "metadata": {
    "collapsed": true
   },
   "outputs": [],
   "source": [
    "5 ^ 3"
   ]
  },
  {
   "cell_type": "markdown",
   "metadata": {},
   "source": [
    "**~ (bit-wise invert)**: The bit-wise inversion of `x` is `-(x+1)`"
   ]
  },
  {
   "cell_type": "code",
   "execution_count": null,
   "metadata": {
    "collapsed": true
   },
   "outputs": [],
   "source": [
    "~5"
   ]
  },
  {
   "cell_type": "markdown",
   "metadata": {},
   "source": [
    "**< (less than)**: Returns whether x is less than y. All comparison operators return `True` or `False`. Note the capitalization of these names"
   ]
  },
  {
   "cell_type": "code",
   "execution_count": 18,
   "metadata": {},
   "outputs": [
    {
     "data": {
      "text/plain": [
       "False"
      ]
     },
     "execution_count": 18,
     "metadata": {},
     "output_type": "execute_result"
    }
   ],
   "source": [
    "5 < 3"
   ]
  },
  {
   "cell_type": "code",
   "execution_count": 19,
   "metadata": {},
   "outputs": [
    {
     "data": {
      "text/plain": [
       "True"
      ]
     },
     "execution_count": 19,
     "metadata": {},
     "output_type": "execute_result"
    }
   ],
   "source": [
    "3 < 5"
   ]
  },
  {
   "cell_type": "markdown",
   "metadata": {},
   "source": [
    "**> (greater than)**: Returns whether `x` is greater than `y`"
   ]
  },
  {
   "cell_type": "code",
   "execution_count": 20,
   "metadata": {},
   "outputs": [
    {
     "data": {
      "text/plain": [
       "True"
      ]
     },
     "execution_count": 20,
     "metadata": {},
     "output_type": "execute_result"
    }
   ],
   "source": [
    "5 > 3"
   ]
  },
  {
   "cell_type": "code",
   "execution_count": 21,
   "metadata": {},
   "outputs": [
    {
     "data": {
      "text/plain": [
       "False"
      ]
     },
     "execution_count": 21,
     "metadata": {},
     "output_type": "execute_result"
    }
   ],
   "source": [
    "3 > 5"
   ]
  },
  {
   "cell_type": "markdown",
   "metadata": {},
   "source": [
    "**<= (less than or equal to)**: Returns whether `x` is less than or equal to `y`"
   ]
  },
  {
   "cell_type": "code",
   "execution_count": 22,
   "metadata": {},
   "outputs": [
    {
     "data": {
      "text/plain": [
       "True"
      ]
     },
     "execution_count": 22,
     "metadata": {},
     "output_type": "execute_result"
    }
   ],
   "source": [
    "3 <= 6"
   ]
  },
  {
   "cell_type": "markdown",
   "metadata": {},
   "source": [
    "**>= (greater than or equal to)**: Returns whether `x` is greater than or equal to `y`"
   ]
  },
  {
   "cell_type": "code",
   "execution_count": 23,
   "metadata": {},
   "outputs": [
    {
     "data": {
      "text/plain": [
       "True"
      ]
     },
     "execution_count": 23,
     "metadata": {},
     "output_type": "execute_result"
    }
   ],
   "source": [
    "4 >= 3 "
   ]
  },
  {
   "cell_type": "markdown",
   "metadata": {},
   "source": [
    "**== (equal to)**: Compares if objects are equal"
   ]
  },
  {
   "cell_type": "code",
   "execution_count": 24,
   "metadata": {},
   "outputs": [
    {
     "data": {
      "text/plain": [
       "True"
      ]
     },
     "execution_count": 24,
     "metadata": {},
     "output_type": "execute_result"
    }
   ],
   "source": [
    "2 == 2"
   ]
  },
  {
   "cell_type": "code",
   "execution_count": null,
   "metadata": {},
   "outputs": [],
   "source": [
    "'hello' == 'hello'"
   ]
  },
  {
   "cell_type": "code",
   "execution_count": 25,
   "metadata": {},
   "outputs": [
    {
     "data": {
      "text/plain": [
       "False"
      ]
     },
     "execution_count": 25,
     "metadata": {},
     "output_type": "execute_result"
    }
   ],
   "source": [
    "'hello' == 'Hello'"
   ]
  },
  {
   "cell_type": "markdown",
   "metadata": {},
   "source": [
    "**!= (not equal to)**: Compares if the objects are not equal"
   ]
  },
  {
   "cell_type": "code",
   "execution_count": 26,
   "metadata": {},
   "outputs": [
    {
     "data": {
      "text/plain": [
       "True"
      ]
     },
     "execution_count": 26,
     "metadata": {},
     "output_type": "execute_result"
    }
   ],
   "source": [
    "2 != 3"
   ]
  },
  {
   "cell_type": "code",
   "execution_count": null,
   "metadata": {
    "collapsed": true
   },
   "outputs": [],
   "source": [
    "'abc' != 'cba'"
   ]
  },
  {
   "cell_type": "markdown",
   "metadata": {},
   "source": [
    "**not (boolean NOT)**: If `x` is `True`, returns `False`. If `x` is `False`, returns `True`"
   ]
  },
  {
   "cell_type": "code",
   "execution_count": 27,
   "metadata": {},
   "outputs": [
    {
     "data": {
      "text/plain": [
       "False"
      ]
     },
     "execution_count": 27,
     "metadata": {},
     "output_type": "execute_result"
    }
   ],
   "source": [
    "x = True\n",
    "not x"
   ]
  },
  {
   "cell_type": "markdown",
   "metadata": {},
   "source": [
    "**and (boolean AND)**: `x` and `y` returns `False` if `x` is `False`, else it returns the evaluation of `y` (both `x` and `y` must be `True` for this to return `True`, otherwise it returns `False`). Try changing around the values of the `x` and `y` below"
   ]
  },
  {
   "cell_type": "code",
   "execution_count": null,
   "metadata": {},
   "outputs": [],
   "source": [
    "x = True\n",
    "y = False    \n",
    "x and y"
   ]
  },
  {
   "cell_type": "markdown",
   "metadata": {},
   "source": [
    "**or (boolean OR)**: If `x` is `True`, it returns `True`, else it returns evaluation of y (if either `x` or `y` is `True` then it returns `True`, otherwise it returns `False`). Try changing around the values of `x` and `y` below"
   ]
  },
  {
   "cell_type": "code",
   "execution_count": null,
   "metadata": {},
   "outputs": [],
   "source": [
    "x = True\n",
    "y = False\n",
    "x and y"
   ]
  },
  {
   "cell_type": "markdown",
   "metadata": {},
   "source": [
    "##### Shortcut for math operation and assignment\n",
    "\n",
    "It is common to run a math operation on a variable and then assign the result of the operation back to the variable, hence there is a shortcut for such expressions. You can write: <br />\n",
    "`a = 2` <br />\n",
    "`a = a * 3` <br/>\n",
    "as: <br/>\n",
    "`a = 2` <br/>\n",
    "`a *= 3`\n",
    "\n",
    "Notice that `var = var operation expression` becomes `var operation = expression`"
   ]
  },
  {
   "cell_type": "code",
   "execution_count": null,
   "metadata": {},
   "outputs": [],
   "source": [
    "a = 2\n",
    "a *= 3\n",
    "print(a)"
   ]
  },
  {
   "cell_type": "markdown",
   "metadata": {},
   "source": [
    "#### Evaluation Order\n",
    "\n",
    "If you have an expression such as `2 + 3 * 4`, is the addition done first or the multiplication? Secondary school maths tells us that the multiplication should be done first. This means that the multiplication operator has higher precedence than the addition operator. \n",
    "\n",
    "The following table gives the precedence table for Python, from the lowest precedence (least binding) to the highest precedence (most binding). This means that in a given expression, Python will first evaluate the operators and expression lower in the table before the ones higher in the table. This table is provided for the sake of reference in order to explicitly specify the precedence. This makes the program more readable\n",
    "\n",
    "<img src=\"figures/evaluation.png\"/>\n",
    "\n",
    "#### Changing the Order of Evaluation\n",
    "\n",
    "To make the expression more readable we can use parenthesis. For example, `2 + (3 * 4)` is definitely easier to understand than `2 + 3 * 4` which requires knowledge of the operator precedences. As with everything else, the parenthesis should be used reasonably (do not overdo it) and should not be redundant, as in `(2 + (3 * 4))`.\n",
    "\n",
    "There is an additional advantage to using parenthesis - it helps to change the order of evaluation. For example, if you want addition to be evaluated before multiplication in an expression, then you can write something like (2 + 3) * 4. Try playing with brackets in the expression below to see how the result changes:"
   ]
  },
  {
   "cell_type": "code",
   "execution_count": null,
   "metadata": {},
   "outputs": [],
   "source": [
    "(2 + 3) * (4 - 5)"
   ]
  },
  {
   "cell_type": "markdown",
   "metadata": {},
   "source": [
    "#### Associativity\n",
    "\n",
    "Operators are usually associated from left to right. This means that operators with the same precedence are evaluated in a left to right manner. For example, `2 + 3 + 4` is evaluated as `(2 + 3) + 4`. Some operators like assignment operators have right to left associativity, that is `a = b = c` is treated as `a = (b = c)`.\n",
    "\n",
    "#### Expressions"
   ]
  },
  {
   "cell_type": "code",
   "execution_count": 6,
   "metadata": {},
   "outputs": [
    {
     "name": "stdout",
     "output_type": "stream",
     "text": [
      "Area is 10\n",
      "Perimeter is 14\n"
     ]
    }
   ],
   "source": [
    "length = 5\n",
    "breadth = 2\n",
    "\n",
    "area = length * breadth\n",
    "print('Area is', area)\n",
    "print(f'Perimeter is {2 * (length + breadth)}')"
   ]
  },
  {
   "cell_type": "markdown",
   "metadata": {},
   "source": [
    "The length and breadth of the rectangle are stored in variables by the same name. We use these to calculate the area and perimeter of the rectangle with the help of expressions. We store the result of the expression `length * breadth` in the variable `area` and then print it using the `print` function. In the second case, we directly use the value of the expression `2 * (length * breadth)` in the `print` function. \n",
    "\n",
    "Also, notice how Python 'pretty-prints' the output. Even though we have not specified a space between `'Area is'` and the variable `area`, Python puts it for us so that we get a clean nice output and the program is much more readable this way (since we don't need to worry about spacing in the strings we use for output). This is an example of how Python make life easy for the programmer.\n",
    "\n",
    "## User Input\n",
    "\n",
    "Many times we want the user to be able to insert some values into our programs. The `input` function can be used for this purpose. We supply a string to the `input` function which prints it to the screen and waits for input from the user. Once the user enters something and presses the `enter` key, the `input` function returns what the user entered, as a string. If you want to use this input as a different data-type (such as a number) you need to convert it using one of the in-built data type converters. For example:"
   ]
  },
  {
   "cell_type": "code",
   "execution_count": null,
   "metadata": {},
   "outputs": [],
   "source": [
    "number = int(input('Enter and integer: '))\n",
    "print('User entered integer', number)"
   ]
  },
  {
   "cell_type": "markdown",
   "metadata": {},
   "source": [
    "In this case, we convert the user-input string using `int` and then store it in the variable `number`. Remember that an integer is the set of all negative and positive natural numbers, including 0. Actually, the `int` is a class but all you need to know right now is that you can use it to convert a string to an integer (assuming the string contains a valid integer in the text, otherwise it will generate an error - try inputting a word instead of an integer above to see what happens.)\n",
    "\n",
    "If you want to convert the input to a floating point number (real number) instead of an integer, you can use `float`.\n",
    "\n",
    "## Milestone: Quadratic Roots\n",
    "\n",
    "Consider a quadratic equation $ax^2 + bx + c = 0$ (where *a* cannot be 0). Solving the equation means finding $x$ values that make the equation true. These values are the roots of the quadratic. The roots can be calculated by working out the quadratic formula:\n",
    "\n",
    "$$x = \\frac{-b\\pm\\sqrt{b^2-4ac}}{2a} $$\n",
    "\n",
    "Write a program which asks the user to enter the values of *a*, *b* and *c* and then calculates and outputs the quadratic roots. Note that $b^2 - 4ac$ can result in a negative, and the square root of a negative is a complex number. The standard square root function in Python will raise an exception when trying to calculate such a square root.\n",
    "\n",
    "Note that we need to calculate the square root of a number. For now, we can import standard mathematical function into our code by putting `from math import *` at the top of our program. We'll see this in more detail later on."
   ]
  },
  {
   "cell_type": "code",
   "execution_count": 3,
   "metadata": {},
   "outputs": [
    {
     "name": "stdout",
     "output_type": "stream",
     "text": [
      "Enter the value for a: 2\n",
      "Enter the value for b: 9\n",
      "Enter the value for c: 3\n",
      "The roots are: -0.363 and -4.14\n",
      "The roots are:  -0.36254139118231254 and -4.1374586088176875\n"
     ]
    }
   ],
   "source": [
    "# Import math functionality into our program\n",
    "from math import *\n",
    "\n",
    "# Ask the user for value for a, b and c\n",
    "a = float(input('Enter the value for a: '))\n",
    "b = float(input('Enter the value for b: '))\n",
    "c = float(input('Enter the value for c: '))\n",
    "\n",
    "# We can store the value of sqrt(b*b - 4ac) in a variable\n",
    "# so we don't have to calculate it twice\n",
    "temp = sqrt(b**2 - 4 * a * c)\n",
    "x1 = (-b + temp) / (2 * a)\n",
    "x2 = (-b - temp) / (2 * a)\n",
    "\n",
    "# Output the results\n",
    "print(f\"The roots are: {x1:.3} and {x2:.3}\")\n",
    "\n",
    "print(\"The roots are: \", x1, \"and\", x2)"
   ]
  }
 ],
 "metadata": {
  "anaconda-cloud": {},
  "kernelspec": {
   "display_name": "Python 3",
   "language": "python",
   "name": "python3"
  },
  "language_info": {
   "codemirror_mode": {
    "name": "ipython",
    "version": 3
   },
   "file_extension": ".py",
   "mimetype": "text/x-python",
   "name": "python",
   "nbconvert_exporter": "python",
   "pygments_lexer": "ipython3",
   "version": "3.8.5"
  },
  "nbpresent": {
   "slides": {},
   "themes": {}
  }
 },
 "nbformat": 4,
 "nbformat_minor": 2
}
