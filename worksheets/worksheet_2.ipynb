{
 "cells": [
  {
   "cell_type": "markdown",
   "metadata": {},
   "source": [
    "# Worksheet 2\n",
    "\n",
    "#### Question 1\n",
    "Write a program to read in 10 numbers and compute the average, maximum and minimum values"
   ]
  },
  {
   "cell_type": "markdown",
   "metadata": {},
   "source": [
    "***\n",
    "#### Question 2\n",
    "Write a program to read in numbers until the number -999 is encountered. The sum of all the numbers read until this point should be printed out."
   ]
  },
  {
   "cell_type": "markdown",
   "metadata": {},
   "source": [
    "***\n",
    "#### Question 3\n",
    "Evaluate the roots of the quadratic equation $ax^2+bx+c=0$, covering the three types of discriminant."
   ]
  },
  {
   "cell_type": "markdown",
   "metadata": {},
   "source": [
    "***\n",
    "#### Question 4\n",
    "Read a positive integer value, and compute the following sequence:\n",
    "- If the number is even, halve it\n",
    "- If the number is odd, multiply it by 3 and add 1\n",
    "\n",
    "Repeat this process until the value is 1, printing out each value. Finally print out how many\n",
    "of these opeartions were performed.\n",
    "\n",
    "_Note: This is known as the Collatz conjecture_"
   ]
  },
  {
   "cell_type": "markdown",
   "metadata": {},
   "source": [
    "*** \n",
    "#### Question 5\n",
    "Evaluate $e^x$ by computing the following power series up to 10 terms:\n",
    "$$e^x = 1 + x + \\frac{x^2}{2!} + \\frac{x^3}{3!} + \\ldots$$\n",
    "Compare this to the analytic value of $e^x$."
   ]
  },
  {
   "cell_type": "markdown",
   "metadata": {},
   "source": [
    "***\n",
    "#### Question 6\n",
    "Evaluate the power series defined in question 5 to within an minimum error of 0.0001, counting the number of terms required (compare the value in each iteration with the value given by the exp function)."
   ]
  },
  {
   "cell_type": "markdown",
   "metadata": {},
   "source": [
    "***\n",
    "#### Question 7\n",
    "Write a program to evalute and print the function of two variables\n",
    "\n",
    "$$f(x,y)=\\frac{1}{2\\pi}e^{-(x^2+y^2)/2}$$\n",
    "\n",
    "over the range x=0, 0.1, 0.2..., 0.5 and y=0, 0.1, 0.2..., 0.5 (which is the bivariate probability density function for a rather simplified case of the normal distribution).\n",
    "\n",
    "***\n",
    "#### Question 8\n",
    "\n",
    "The bisection method in mathematics is a root-finding method that repeatedly bisects an interval and then selects a subinterval in which a root must lie for further processing. Using this method, find the root of the equation\n",
    "\n",
    "$$e^{-x} + 4x^3-5 = 0$$\n",
    "\n",
    "using the initial interval [1, 2]. Try using a minimum error of 1e-3, 1e-9 and 1e-12. What happens if you try to use a much smaller minimum error?\n",
    "\n",
    "***\n",
    "#### Question 9\n",
    "\n",
    "Fixed-point iteration (also known as the iterative method) is a method of computing fixed points of iterated functions. Using this method, find the roots of:\n",
    "\n",
    "$$ x^2 - x - 2 = 0$$\n",
    "\n",
    "by re-writing the equation as\n",
    "\n",
    "$$x=\\frac{x+2}{x} \\text{   and   } x=x^2-2$$\n",
    "\n",
    "*Note: If the method does not converge given an initial guess input, Python will give you an `OverflowError`, meaning that the computed value it too large for Python to process. It could also return $inf$*"
   ]
  },
  {
   "cell_type": "markdown",
   "metadata": {},
   "source": [
    "***\n",
    "#### Question 10\n",
    "In many cases an analytic expression for the integrand of a function cannot be found, and such an integration can only be performed by an operation called numerical integration, or preferably numerical quadrature. One method, of many, is called the trapezoidal rule, in which\n",
    "\n",
    "$$\\int^{x_2}_{x_1} f(x)dx=\\frac{f(x_1) + f(x_2)}{2} (x_2-x_1)$$\n",
    "\n",
    "which is simply the area of the leftmost shaded trapezoid of the figure below:\n",
    "\n",
    "<img src=\"trapezoid_rule.png\" />\n",
    "\n",
    "One shaded trapezoid would not be accurate enough, so a number of thin trapezoids would be taken and their areas summed.\n",
    "\n",
    "Using the trapezoid rule, find\n",
    "\n",
    "$$\\frac{1}{\\sqrt{2\\pi}}\\int^1_0 e^{-x^2/2}dx$$\n",
    "\n",
    "by dividing the range $0\\le x\\le1$ into ten equal segments and summing the areas of the trapezoid so formed. "
   ]
  },
  {
   "cell_type": "markdown",
   "metadata": {},
   "source": [
    "***\n",
    "#### Question 11\n",
    "The term 'numerical integration' also applies to the solution of differential equations by numerical means. A wide variety of methods are available, but one of the most popular is a class of techniques collectively known as Runge-Kutta methods. Given an equation\n",
    "\n",
    "$$\\frac{dy}{dt} = f(y,t)$$\n",
    "\n",
    "for which $y_0$ is known at $t_0$ and $y(t_0+h)$ is desired. This requirement can be met by calculating, in order, the following quantities:\n",
    "\n",
    "$$\n",
    "\\begin{eqnarray}\n",
    "k_0 & = & hf(y_0, t_0) \\\\\n",
    "k_1 & = & hf(y_0 + k_0/2, t_0 + h/2)\\\\\n",
    "k_2 & = & hf(y_0 + k_1/2, t_0 + h/2)\\\\\n",
    "k_3 & = & hf(y_0 + k_2, t_0 + h) \\\\\n",
    "\\end{eqnarray}\n",
    "$$\n",
    "\n",
    "after which the value for $y(t+h)$ is found as:\n",
    "\n",
    "$$y(t+h)=y_0 + \\frac{1}{6}\\left( k_0 + 2k_1 + 2k_2 + k_3 \\right)$$\n",
    "\n",
    "This is then a Runge-Kutta procedure of the fourth order. Use this method to solve the equation\n",
    "\n",
    "$$\\frac{dy}{dt} = -y$$\n",
    "\n",
    "with $y=1$ at $t=0$. Begin with $h=0.1$ and carry out the solution for $t=0,h,2h...4h$ seconds. Then try $h=0.2,0.4...$.\n",
    "\n",
    "***\n",
    "Back to [index](index.ipynb) page\n"
   ]
  }
 ],
 "metadata": {
  "anaconda-cloud": {},
  "kernelspec": {
   "display_name": "Python 3",
   "language": "python",
   "name": "python3"
  },
  "language_info": {
   "codemirror_mode": {
    "name": "ipython",
    "version": 3
   },
   "file_extension": ".py",
   "mimetype": "text/x-python",
   "name": "python",
   "nbconvert_exporter": "python",
   "pygments_lexer": "ipython3",
   "version": "3.8.5"
  }
 },
 "nbformat": 4,
 "nbformat_minor": 1
}
