{
 "cells": [
  {
   "cell_type": "markdown",
   "metadata": {},
   "source": [
    "# Worksheet 1\n",
    "\n",
    "#### Question 1\n",
    "Write a program which accepts two numbers as input and outputs their sum, average and sum of their squares."
   ]
  },
  {
   "cell_type": "markdown",
   "metadata": {},
   "source": [
    "***\n",
    "#### Question 2\n",
    "Implement the Pythagoras Theorem. The program must ask the user for the length of the adjacent and opposite sides of a triangle, and the program must output the length of the hypotenuse. Remember that the Pythagoras theorem states:\n",
    "\n",
    "$$z = \\sqrt{x^2 + y^2}$$"
   ]
  },
  {
   "cell_type": "markdown",
   "metadata": {},
   "source": [
    "***\n",
    "#### Question 3\n",
    "Write a program to read a floating point number representing the temperature in Fahrenheit and prints the equivalent in Celsius (subtract 32 from the temperature in Fahrenheit and multiply this by 5/9).\n",
    "\n",
    "_Note: What is the result in Python when issuing the statement `print(5/9)`? You'll notice that it is 0. This is because 5 and 9 are both integers, so Python is performing an integer division. To ensure that you do a floating point division, use `print(5.0/9.0)` or `print(5./9.)`._"
   ]
  },
  {
   "cell_type": "markdown",
   "metadata": {},
   "source": [
    "***\n",
    "#### Question 4\n",
    "Given to positive integers, write a program which finds their quotient, the integer part of their quotient and the remainder after integer division."
   ]
  },
  {
   "cell_type": "markdown",
   "metadata": {},
   "source": [
    "***\n",
    "#### Question 5\n",
    "The period `T` seconds of a pendulum of length `l` meters for a small angle of swing is\n",
    "\n",
    "$$T=2\\pi\\sqrt{l/g}$$\n",
    "where $g=9.81ms^{-1}$\n",
    "1. Write a program to find the period from the length\n",
    "2. Write a program to find the length from the period\n",
    "\n",
    "_Note: You can get the value of pi by importing it from the math library: `from math import pi`_"
   ]
  },
  {
   "cell_type": "markdown",
   "metadata": {},
   "source": [
    "***\n",
    "#### Question 6\n",
    "Write a program which calculates the average speed of a journey (distance over time)\n",
    "1. by accepting in metres and elapsed duration in seconds\n",
    "2. by accepting a distance in metres and elapes duration in hours, minutes and seconds (this must be converted to one variable)"
   ]
  },
  {
   "cell_type": "markdown",
   "metadata": {},
   "source": [
    "***\n",
    "#### Question 7\n",
    "Suppose the time of day is given as a decimal number in hours (for examples, 18.5 hours is 18 hours, 30 minutes). Write a program which converts the given time to hours, minutes and seconds."
   ]
  },
  {
   "cell_type": "markdown",
   "metadata": {},
   "source": [
    "***\n",
    "#### Question 8\n",
    "The Newton-Raphson method iteration is a popular means of finding roots of equations of the form $f(x) = 0$. It is based on the simple geometrical notion that if a crude estimation of $x_0$ of the solution is known, then an improved estimate $x_1$ can be found using the slope $f'x_0$ as in the figure below. From this diagram, the slope of the tangent at $x_0$ can be found as\n",
    "\n",
    "$$f'(x_0)=\\frac{f(x_0)}{x_0-x_1}$$\n",
    "from which\n",
    "\n",
    "$$x_1 = x_0 - \\frac{f(x_0)}{f'(x_0)}$$\n",
    "\n",
    "If the first guess $x_0$ is good enough, successive use of this equation will quickly lead to the correct answer. \n",
    "\n",
    "Write a program to find a better estimate of the square root of a number $c$ by applying the Newton-Raphson method to the equation $x^2 - c = 0$ (since this can be re-written as $x=\\sqrt{c}$, we want to find x in this case). The program should allow the user to enter the value of C whose root needs to be found, and a guess. In each subsequent run of the program, enter the previous approximation to get a better estimate. Find the value of $\\sqrt{2}$, $\\sqrt{10}$ and $\\sqrt{4096}$ in this way.\n",
    "\n",
    "<img src=\"newton_raphson.png\" alt>\n",
    "\n",
    "***\n",
    "Back to [index](index.ipynb) page"
   ]
  }
 ],
 "metadata": {
  "anaconda-cloud": {},
  "kernelspec": {
   "display_name": "Python 3",
   "language": "python",
   "name": "python3"
  },
  "language_info": {
   "codemirror_mode": {
    "name": "ipython",
    "version": 3
   },
   "file_extension": ".py",
   "mimetype": "text/x-python",
   "name": "python",
   "nbconvert_exporter": "python",
   "pygments_lexer": "ipython3",
   "version": "3.5.2"
  }
 },
 "nbformat": 4,
 "nbformat_minor": 1
}
