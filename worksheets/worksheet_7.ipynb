{
 "cells": [
  {
   "cell_type": "markdown",
   "metadata": {},
   "source": [
    "# Worksheet 7\n",
    "\n",
    "#### Question 1: Bisection Method\n",
    "\n",
    "Using the Bisection method, find the root of:\n",
    "\n",
    "$$x^2-40$$\n",
    "\n",
    "use $x_1=7$, $x_2=6$ and 0.0001 as a convergence criteria"
   ]
  },
  {
   "cell_type": "markdown",
   "metadata": {},
   "source": [
    "***\n",
    "#### Question 2: Fixed-Point Iteration\n",
    "\n",
    "Fixed-point iteration (also known as the iterative method) is a method of computing fixed points of iterated functions. Using this method, solve:\n",
    "\n",
    "$$ x^2 - x - 2 = 0$$\n",
    "\n",
    "by re-writing the equation as\n",
    "\n",
    "$$x=x\\frac{x+2}{x} \\text{   and   } x=x^2-2$$"
   ]
  },
  {
   "cell_type": "markdown",
   "metadata": {},
   "source": [
    "***\n",
    "#### Question 3: Jacobi Method\n",
    "\n",
    "The Jacobi method is a matrix iterative method used to solve the equation $Ax=b$ for a known square matrix $A$ of size $n\\times n$ and known vector $b$ of length $n$. Beginning with this equation, $A$ is split into the sum of two separate matrices $D$ and $R$, such that $A = D+R$. $D_{ii}=A_{ii}$, but $D_{ij}=0$, for $i \\ne j$. $R$ is essentially the opposite. $R_{ii}=0$, but $R_{ij}=A$ for $i\\ne j$. The solution to the equation (the value of $x$) is given by the following iterative equation:\n",
    "\n",
    "$$ x^{k+1}=D^{-1}(b-Rx^k). $$\n",
    "\n",
    "or, in different terms:\n",
    "\n",
    "$$ x_i' = \\frac{1}{a_{ii}}\\left(b_n-\\sum_{j\\ne i}^N{a_{ij}x_{j}}\\right)$$\n",
    "\n",
    "Using the Jacobi method, solve the following set of equations:\n",
    "\n",
    "$$\n",
    "\\begin{aligned}\n",
    "10x_1 -x_2 +2x_3 &= 6 \\\\\n",
    "-x_1 +11x_2 -x_3 +3x_4 &=25 \\\\\n",
    "2x_1 -x_2 +10x_3 -x_4 &= -11 \\\\\n",
    "3x_2 -x_3 +8x_4 &=15 \\\\\n",
    "\\end{aligned}\n",
    "$$\n",
    "\n",
    "The exact values are; $x_1=1$, $x_2=2$, $x_3=-1$ and $x_4=1$. How many iterations do you need to perform to have an error (in all terms) less than 1e$^{-5}$?\n",
    "\n",
    "_Hints: You can generate the diagonal $D$ by using `numpy.diag`, and the matrix $R$ with `numpy.diagflat`. Also, you can use `numpy.dot` for the calculating the dot product (the summation part in the last equation)_"
   ]
  },
  {
   "cell_type": "markdown",
   "metadata": {},
   "source": [
    "***\n",
    "#### Question 4: Gauss-Seidel method\n",
    "\n",
    "The Gauss-Seidel method is similar to the Jacobi method, except that the newly calculated values are used immediately, even within the same iteration. Covert you solution to question 3 to use the Gauss-Seidel method instead. "
   ]
  },
  {
   "cell_type": "markdown",
   "metadata": {},
   "source": [
    "***\n",
    "#### Question 5: Finite Difference method\n",
    "\n",
    "Finite difference methods are numerical techniques for solving differential equations by approximating them with difference equations, where finite differences approximate derivatives. Difference tables is a very simple example of a finite difference method, where the first order derivative of $f(x)$ can be approximated, using different schemes, as:\n",
    "\n",
    "$$\n",
    "\\begin{aligned}\n",
    "\\text{foward: }& f'(x) \\approx \\frac{f(x_{i+1})-f(x_i)}{h} \\\\ \n",
    "\\text{backward: }& f'(x) \\approx \\frac{f(x_i)-f(x_{i-1})}{h} \\\\ \n",
    "\\text{central: }& f'(x) \\approx \\frac{f(x_{i+1})-f(x_{i-1})}{2h} \\\\ \n",
    "\\end{aligned}\n",
    "$$\n",
    "\n",
    "For the equation $f(x)=x^3+3x^2+2x+1$, use the above method to find the value of the derivative at the points $[0,10]$, using different values of $h$: $0.001, 0.01, 0.1$. For each run, calculate the error between the numerical and exact solution. Generate a plot showing the error for each value of $h$ for all schemes above. Which scheme results in the least error between the numerical and exact solutions?"
   ]
  },
  {
   "cell_type": "markdown",
   "metadata": {},
   "source": [
    "***\n",
    "Back to [index](index.ipynb) page"
   ]
  }
 ],
 "metadata": {
  "anaconda-cloud": {},
  "kernelspec": {
   "display_name": "Python 3",
   "language": "python",
   "name": "python3"
  },
  "language_info": {
   "codemirror_mode": {
    "name": "ipython",
    "version": 3
   },
   "file_extension": ".py",
   "mimetype": "text/x-python",
   "name": "python",
   "nbconvert_exporter": "python",
   "pygments_lexer": "ipython3",
   "version": "3.8.5"
  }
 },
 "nbformat": 4,
 "nbformat_minor": 1
}
