{
 "cells": [
  {
   "cell_type": "markdown",
   "metadata": {},
   "source": [
    "# Worksheet 4\n",
    "\n",
    "#### Question 1\n",
    "In worksheet 1 question 3 you had to convert from Fahrenheit to Celsius (subtract 32 from the temperature in Fahrenheit and multiply by $\\frac{5}{9}$). Reimplement this as a function, which accepts the value in Fahrenheit and returns the temperature in Celsius."
   ]
  },
  {
   "cell_type": "markdown",
   "metadata": {},
   "source": [
    "***\n",
    "#### Question 2\n",
    "Provide a function for rounded truncation, i.e. $f(3.4) = 3$ but $f(3.6) = 4$."
   ]
  },
  {
   "cell_type": "markdown",
   "metadata": {},
   "source": [
    "***\n",
    "#### Question 3\n",
    "Use a function to provide\n",
    "\n",
    "$$\\frac{1}{\\sqrt{2\\pi}}e^{\\frac{x^2}{2}} $$\n",
    "\n",
    "and print out the values of the function from $x=0$ to $x=4$ with an interval of 0.5"
   ]
  },
  {
   "cell_type": "markdown",
   "metadata": {},
   "source": [
    "***\n",
    "#### Question 4\n",
    "\n",
    "Write a function for \n",
    "$$ sinc(x) \\equiv \\frac{sim x}{x} $$\n",
    "Make sure that your function handles $x$ = 0 correctly."
   ]
  },
  {
   "cell_type": "markdown",
   "metadata": {},
   "source": [
    "***\n",
    "#### Question 5\n",
    "The number of $n$ different objects taken $r$ at a time is given by $_nC_r$, where\n",
    "\n",
    "$$_nC_r = \\frac{n!}{r!\\times(n-r)!} $$\n",
    "\n",
    "Using a function to calculate factorials, write a program to evaluate $_nC_r$ given $n$ and $r$ (by the user)."
   ]
  },
  {
   "cell_type": "markdown",
   "metadata": {},
   "source": [
    "***\n",
    "#### Question 6\n",
    "Implement the question provided in worksheet 2, question 4 as a recursive function."
   ]
  },
  {
   "cell_type": "markdown",
   "metadata": {},
   "source": [
    "***\n",
    "#### Question 7\n",
    "The Fibonacci sequence is the series of numbers\n",
    "\n",
    "$$0,1,1,2,3,5,8,12,21,34,\\dots $$\n",
    "\n",
    "where the next number (after 0, 1) is found by adding up the two numbers before it. Implement the fibonacci sequence as a recursive function, which given a number $i$ will return the $i^{th}$ number in the sequence."
   ]
  },
  {
   "cell_type": "markdown",
   "metadata": {},
   "source": [
    "***\n",
    "#### Question 8\n",
    "Let's return to the Newton Raphson method. In worksheet 1 you had to call the program multiple times in order to get an accurate answer. This can be avoided by loopng the root calculation until an answer with the desired accuracy is reached. So\n",
    "- implement the Newton Raphson method as a function\n",
    "- call the function repeatedly until the root is correct to within $0.0001$\n",
    "Using this, find $\\sqrt{2}$ and $\\sqrt{169}$."
   ]
  },
  {
   "cell_type": "markdown",
   "metadata": {},
   "source": [
    "***\n",
    "#### Question 9\n",
    "Monte Carlo (MC) methods are stochastic techniques, meaning they are based on the use of random numbers and probability statistics to investigate problems. They are used in everything from economics to nuclear physics to regulating the flow of traffic. The use of MC methods to model physical problems allows us to examine more complex systems than we otherwise can.\n",
    "\n",
    "\"Hit and miss\" integration is the simplest type of MC method to understand, and we’ll do so through a simple geometric MC experiment which calculates the value of π based on a \"hit and miss\" integration. Consider figure 1a representing a circle inscribed within a square. Note that the gray region (the upper right quadrant) holds exactly a quarter of both the inscribed circle and the square. If we set the radius of the circle equal to one unit, the area of the quadrant will be one, and the area of the inscribed circle within the gray area will be\n",
    "a quarter of π.\n",
    "\n",
    "<table border=\"none\">\n",
    "<tr>\n",
    "    <td><img src=\"monte1.png\"/></td>\n",
    "    <td><img src=\"monte2.png\"/></td>\n",
    "</tr>\n",
    "</table>\n",
    " \n",
    "Now we are going to simulate the tossing of millions of infinitely small darts at the upper right quadrant of a square, as shown in figure 1b. We expect the ratio of the darts within the circle (the red) to all darts tossed to be equal to the ratio of the areas - a quarter of π. \n",
    "\n",
    "Use the `random` function (don't forget to import it (`from numpy.random import random`) to find the value of π in this way. How may trial are needed to give two significant digits? How about four significant digits?\n",
    "\n",
    "***\n",
    "Back to [index](index.ipynb) page"
   ]
  }
 ],
 "metadata": {
  "kernelspec": {
   "display_name": "Python 3",
   "language": "python",
   "name": "python3"
  },
  "language_info": {
   "codemirror_mode": {
    "name": "ipython",
    "version": 3
   },
   "file_extension": ".py",
   "mimetype": "text/x-python",
   "name": "python",
   "nbconvert_exporter": "python",
   "pygments_lexer": "ipython3",
   "version": "3.5.2"
  }
 },
 "nbformat": 4,
 "nbformat_minor": 1
}
