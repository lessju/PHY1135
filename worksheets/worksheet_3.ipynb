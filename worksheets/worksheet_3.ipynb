{
 "cells": [
  {
   "cell_type": "markdown",
   "metadata": {},
   "source": [
    "# Worksheet 3\n",
    "\n",
    "#### Question 1\n",
    "Write a program that creates a list of 10 elements. Each elements should be equal to its subscript. The program should then print each of those 10 elements."
   ]
  },
  {
   "cell_type": "markdown",
   "metadata": {},
   "source": [
    "***\n",
    "#### Question 2\n",
    "Modify question 2 in worksheet 2. After the user enter -999, print out all the values which the user has input (you will need to store all the inputs)."
   ]
  },
  {
   "cell_type": "markdown",
   "metadata": {},
   "source": [
    "***\n",
    "#### Question 3\n",
    "Create a list of 100 elements and initialize it with random numbers between 1 and 500. Print out the maximum and minimum numbers, as well as the number of elements between 200 and 250."
   ]
  },
  {
   "cell_type": "markdown",
   "metadata": {},
   "source": [
    "***\n",
    "#### Question 4\n",
    "Create a list of 20 random elements, printing them out one by one. Then reverse the list, that is the first element becomes the last elements, the second becomes the one before the last etc... Print the reversed list."
   ]
  },
  {
   "cell_type": "markdown",
   "metadata": {},
   "source": [
    "***\n",
    "#### Question 5\n",
    "\n",
    "The Selection Sort algorithm is a sorting algorithm which starts by scanning a list for the smallest number and swapping it with the first element. It then does the same thing for the second smallest number until all the list is sorted. Create a list of 100 elements and sort them out, printing them in ascending order."
   ]
  },
  {
   "cell_type": "markdown",
   "metadata": {},
   "source": [
    "***\n",
    "#### Question 6\n",
    "Write a program to accomplish the scalar product $s$ of two vectors $A$ and $B$, each of length $n$:\n",
    "\n",
    "$$ s=\\sum_{i=1}^n{a_ib_i} $$"
   ]
  },
  {
   "cell_type": "markdown",
   "metadata": {},
   "source": [
    "***\n",
    "#### Question 7\n",
    "A projectile thrown vertically at some initial velocity $v_1$ has position $y(t)=y_i+v_it+\\frac{1}{2}at^2$, where $a$ = -9.8m/s$^2$. Write a program that creates two lists, one containing time data (50 points over 5 seconds) and the other containing the corresponding vertical position for this projectile. The program should ask the user for the initial height $y_i$ and initial velocity $v_i$, and should print a nicely formatted table of the list values after it has calculated them. "
   ]
  },
  {
   "cell_type": "markdown",
   "metadata": {},
   "source": [
    "***\n",
    "#### Question 8\n",
    "Write a program that puts random numbers in a \"2D\" list that is 10 by 5. Then:\n",
    "- Print out the entire list\n",
    "- Print out the value and position (2D index) of the largest number\n",
    "- Print out the average of each row\n",
    "\n",
    "***\n",
    "Back to [index](index.ipynb) page"
   ]
  }
 ],
 "metadata": {
  "anaconda-cloud": {},
  "kernelspec": {
   "display_name": "Python 3",
   "language": "python",
   "name": "python3"
  },
  "language_info": {
   "codemirror_mode": {
    "name": "ipython",
    "version": 3
   },
   "file_extension": ".py",
   "mimetype": "text/x-python",
   "name": "python",
   "nbconvert_exporter": "python",
   "pygments_lexer": "ipython3",
   "version": "3.8.5"
  }
 },
 "nbformat": 4,
 "nbformat_minor": 1
}
