{
 "cells": [
  {
   "cell_type": "markdown",
   "metadata": {},
   "source": [
    "# Functions and Modules\n",
    "\n",
    "## Functions\n",
    "\n",
    "Functions are reusable pieces of program. They allow you to give a name to a block of statements, allowing you to run that block using the specified name anywhere in your program and any number of times. This is known as *calling* the function. We have already used many built-in functions such as **len** and **range**. The function concept is probably the *most* important building block of any non-trivial software (in any programming language).\n",
    "\n",
    "Functions are defined using the `def` keyword. After this keyword comes an *identifier* name for the function, followed by a pair of parenthesis which may enclose some names of variables, and by the final colon that ends the line. Next follows the block of statements that are part of this function. An example will show that this is actually pretty simple:"
   ]
  },
  {
   "cell_type": "code",
   "execution_count": 1,
   "metadata": {},
   "outputs": [
    {
     "name": "stdout",
     "output_type": "stream",
     "text": [
      "Hello World\n",
      "Hello World\n"
     ]
    }
   ],
   "source": [
    "def sayHello():\n",
    "    print(\"Hello World\") # Block belonging to the function\n",
    "# End of function\n",
    "\n",
    "sayHello()  # Call the function\n",
    "sayHello()  # Call the function again"
   ]
  },
  {
   "cell_type": "markdown",
   "metadata": {},
   "source": [
    "We define a function called `sayHello` using the syntax as explained above. This function takes no parameters and hence that are no variables declared in the parenthesis. Parameters to functions are just input to the function so that we can pass in different values to it and get back corresponding results.\n",
    "\n",
    "Notice that we can call the same function twice which means that we do not have to write the same code again.\n",
    "\n",
    "### Function Parameters\n",
    "\n",
    "A function can take parameters, which are values you supply to the function so that the function can *do* something utilizing those value. These parameters are just like variables, except that the values of the variables are defined when we call the function and are already assigned when the function runs. \n",
    "\n",
    "Parameters are specified within the pair of parenthesis in the function definition, separated by commas. When we call the function, we supply the values in the same way. Note the terminology used - the names given in the function definition are called *parameters* whereas the values you supply in the function call are called *arguments*."
   ]
  },
  {
   "cell_type": "code",
   "execution_count": 3,
   "metadata": {},
   "outputs": [
    {
     "name": "stdout",
     "output_type": "stream",
     "text": [
      "4 is maximum\n",
      "7 is maximum\n"
     ]
    }
   ],
   "source": [
    "def printMax(a, b):\n",
    "    if a > b:\n",
    "        print(a, \"is maximum\")\n",
    "    elif a == b:\n",
    "        print(a, 'is equal to', b)\n",
    "    else:\n",
    "        print(b, 'is maximum')\n",
    "        \n",
    "printMax(3, 4) # Directly give literal values\n",
    "\n",
    "x = 5\n",
    "y = 7\n",
    "\n",
    "printMax(x, y) # Give variables as arguments"
   ]
  },
  {
   "cell_type": "markdown",
   "metadata": {},
   "source": [
    "Here, we define a function called `printMax` that uses two parameters called `a` and `b`. We find out the larger number using a simple `if..else` statement and then print the larger number. \n",
    "\n",
    "The first time we call the function `printMax`, we direct supply the numbers as arguments. In the second case, we call the function with variables as arguments. `printMax(x, y)` causes the value of argument `x` to be assigned to parameter `a` and the value of argument `y` to be assigned to parameter `b`. The `printMax` function works the same way in both cases. \n",
    "\n",
    "### Local Variables\n",
    "\n",
    "When you declare variables inside a function definition, they are not related in any way to other variables with the same names outside the function, that is variable names are *local* to the function. This is called the *scope* of the variable. All variables have the scope of the block they are declared in starting from the point of definition of the name."
   ]
  },
  {
   "cell_type": "code",
   "execution_count": 2,
   "metadata": {},
   "outputs": [
    {
     "name": "stdout",
     "output_type": "stream",
     "text": [
      "x is 50\n",
      "Changed local x to 2\n",
      "x is still 50\n"
     ]
    }
   ],
   "source": [
    "x = 50\n",
    "\n",
    "def func(param):\n",
    "    x = param\n",
    "    print(\"x is\", x)\n",
    "    x = 2\n",
    "    print(\"Changed local x to\", x)\n",
    "\n",
    "func(x)\n",
    "print(\"x is still\", x)"
   ]
  },
  {
   "cell_type": "markdown",
   "metadata": {},
   "source": [
    "The first time that we print the *value* of the name `x` with the first line in the function's body, Python uses the value of the parameter declared in the main blockm above the function definition. \n",
    "\n",
    "Next, we assign the value `2` to `x`. The name `x` is local to out functions. So, when we change the value of `x` in the function, the `x` defined in the main block remains unaffected. \n",
    "\n",
    "With the last `print` function call, we display the value of `x` as defined in the main block, thereby confirming that it is actually unaffected by the local assignment within the previously called function. \n",
    "\n",
    "#### Using the `global` Statement\n",
    "\n",
    "If you want to assign a value to a name defined at the top level of the program (that is not inside any kind of scope such as functions or classes), then you have to tell Python that the name is not local, but it is *global*. We do this using the `global` statement. It is impossible to assign a value to a variable defined outside a function without the `global` statement. \n",
    "\n",
    "You can use the values of such variables defined outside the function (assuming there is no variable with the same name within the function). However, this is not encouraged and should be avoided since it becomes unclear to the reader of the program as to where that variable's definition is. Using the `global` statement makes it amply clear that the variable is defined in an outermost block."
   ]
  },
  {
   "cell_type": "code",
   "execution_count": 4,
   "metadata": {},
   "outputs": [
    {
     "name": "stdout",
     "output_type": "stream",
     "text": [
      "x is 50\n",
      "Changed local x to 2\n",
      "Value of x is 2\n"
     ]
    }
   ],
   "source": [
    "x = 50\n",
    "\n",
    "def func(param):\n",
    "    global x\n",
    "    \n",
    "    x = param\n",
    "    print(\"x is\", x)\n",
    "    x = 2\n",
    "    print(\"Changed local x to\", x)\n",
    "\n",
    "func(x)\n",
    "print(\"Value of x is\", x)"
   ]
  },
  {
   "cell_type": "markdown",
   "metadata": {},
   "source": [
    "### Default Argument Values\n",
    "\n",
    "For some functions, you may want to make some parameters *optional* and use default values in case the user does not want to provide values for them. This is done with the help of default argument values. You can specify default argument values for parameters by appending to the parameter name in the function definition the assignment operator (`=`) followed by the default value.  Note that the default argument value should be a constant. More precisely, the default argument value should be immutable."
   ]
  },
  {
   "cell_type": "code",
   "execution_count": 1,
   "metadata": {},
   "outputs": [
    {
     "name": "stdout",
     "output_type": "stream",
     "text": [
      "Hello\n",
      "WorldWorldWorldWorldWorld\n"
     ]
    }
   ],
   "source": [
    "def say(message, times = 1):\n",
    "    print(message * times)\n",
    "    \n",
    "say(\"Hello\")\n",
    "say(\"World\", 5)"
   ]
  },
  {
   "cell_type": "markdown",
   "metadata": {},
   "source": [
    "The function names `say` is used to print a string as many times as specified. If we don't supply a value, then by default, the string is printed just once. We achieve this by specifying a default argument value of `1` to the parameters `times`. In the first usage of `say`, we supply only the string and it prints the string once. In the seconds usage of `say`, we supply both the string and a argument `5` stating that we want to *say* the string message `5` times. \n",
    "\n",
    "Note: Only those parameters which are at the end of the parameter list can be given default argument values, that is you cannot have a parameter with a default argument value preceeding a parameter without a default argument value in the function's parameter list. This is because the values are assigned to the parameters by position. For example, `def func(a, b=5)` is valid, but `def func(a=5, b)` is not valid\n",
    "\n",
    "### Keyword Arguments\n",
    "\n",
    "If you have some functions with many paramters and you want to specify only some of them, then you can give values for such parameters by naming them - this is called *keyword arguments* - we use the name (keyword) instead of position (which we have been using all along) to specify the arguments to the function. \n",
    "\n",
    "There are two advantages - one, using the function is easier since we do not need to worry about the order of the arguments. Two, we can give values to only those parameters to which we want to, provided that the other parameters have default arguments as well."
   ]
  },
  {
   "cell_type": "code",
   "execution_count": 4,
   "metadata": {},
   "outputs": [
    {
     "name": "stdout",
     "output_type": "stream",
     "text": [
      "a is 3 and b is 7 and c is 10\n",
      "a is 25 and b is 5 and c is 4\n",
      "a is 100 and b is 5 and c is 50\n"
     ]
    }
   ],
   "source": [
    "def func(a, b=5, c=10):\n",
    "    print(\"a is\", a, \"and b is\", b, \"and c is\", c)\n",
    "    \n",
    "func(3, 7)\n",
    "func(25, c=24)\n",
    "func(c=50, a=100)"
   ]
  },
  {
   "cell_type": "markdown",
   "metadata": {},
   "source": [
    "The function names `func` has one parameter without a default argument value, followed by two parameters with default argument values. \n",
    "\n",
    "In the first usage, `func(3, 7)`, the parameter `a` get the value 3, the parameter `b` gets the value `7` and `c` gets the default value 10.\n",
    "\n",
    "In the second usage `func(25, c=24)`, the variable `a` gets the value of 25 due to the position of the argument. Then, the parameter `c` gets the value of 24 due to naming, that is keyword arguments. The variable `b` gets the default value of 5.\n",
    "\n",
    "In the third usage `func(c=50, a=100)`, we use keyword arguments for all specified value values. Notice that we are specifying the value for parameter `c` before that for `a` even though `a` is defined before `c` in the function definition"
   ]
  },
  {
   "cell_type": "markdown",
   "metadata": {},
   "source": [
    "### The `return` Statement\n",
    "\n",
    "The `return` statement is used to *return* from a function, that is break out of the function. We can optionally *return a value* from the function as well."
   ]
  },
  {
   "cell_type": "code",
   "execution_count": null,
   "metadata": {
    "collapsed": true
   },
   "outputs": [],
   "source": [
    "def maximum(x, y):\n",
    "    if x > y:\n",
    "        return x\n",
    "    elif x == y:\n",
    "        return \"The numbers are equal\"\n",
    "    else:\n",
    "        return y\n",
    "    \n",
    "print(maximum(2, 3))"
   ]
  },
  {
   "cell_type": "markdown",
   "metadata": {},
   "source": [
    "The `maximum` function returns the maximum of the parameters, in this case the numbers supplied to the function. It uses a simple `if..else` statement to find the greater value and then *returns* that value.\n",
    "\n",
    "Note that a `return` statement without a value is equivalent to `return None`. `None` is a special type in Python that represents nothingness. For example, it is used to indicate that a variable has no value if it has a value `None`.\n",
    "\n",
    "Every function implicitly contains a `return None` statement at the end unldess you have written your own `return` statement. You can see this by running `print(someFunction())` where the function `someFunction` does not use the `return` statement such as:"
   ]
  },
  {
   "cell_type": "code",
   "execution_count": 6,
   "metadata": {},
   "outputs": [],
   "source": [
    "def somFunction():\n",
    "    pass"
   ]
  },
  {
   "cell_type": "markdown",
   "metadata": {},
   "source": [
    "The `pass` statement is used in Python to indicate an empty block of statements.\n",
    "\n",
    "Aside: There is a built-in function called `max` that already implements the 'find maximum' functionality, so we use built-in functions whenever possible.\n",
    "\n",
    "### Milestone: Pythagoras Theorem\n",
    "\n",
    "Write a program which implements the Pythagoras theorem as a function:\n",
    "\n",
    "$$ x = \\sqrt{y^2 + z^2} $$\n",
    "\n",
    "The variable on the left-hand side of the equation is the one whose value we want to find out. All the variables on the right hand side are required to find the value of $x$. Therefore, out function will need to return the calculated value of `x` and required two arguments: `y` and `z`."
   ]
  },
  {
   "cell_type": "code",
   "execution_count": null,
   "metadata": {},
   "outputs": [],
   "source": [
    "### from math import *  # We need the sqrt function\n",
    "\n",
    "# Our function\n",
    "def pythagoras(y, z):\n",
    "    return sqrt(y * y + z * z)\n",
    "\n",
    "# Get input from the user\n",
    "y = float(input(\"Enter the length of side 1: \"))\n",
    "z = float(input(\"Enter the length of side 2: \"))\n",
    "\n",
    "# Use the function to calculate the result and print it\n",
    "x = pythagoras(y, z)\n",
    "print(f\"The length of side 3 is {x:.3}\")"
   ]
  },
  {
   "cell_type": "markdown",
   "metadata": {},
   "source": [
    "### Recursion\n",
    "\n",
    "It is possible for a function to call itself. This process is known as *recusrion* and a function which does so is called a *recursive* function. A recursive function requires a call to itself and a test to see if some stopping condition has been met, bringing an end to the recusrion.\n",
    "\n",
    "Sometimes recursion leads to elegant programming solutions, intuitively simpler than an iterative (using loops) approach to the problem. Make sure that the recursion is not too long (thousands of calls), as this might cause an error.\n",
    "\n",
    "### Milestone: Factorial\n",
    "\n",
    "Write a program to calculate the factorial of a given number as a recursive \n",
    "function:\n",
    "\n",
    "$$n! = n.(n-1)!$$"
   ]
  },
  {
   "cell_type": "code",
   "execution_count": 3,
   "metadata": {},
   "outputs": [
    {
     "name": "stdout",
     "output_type": "stream",
     "text": [
      "Enter number: 300\n",
      "The factorial of 300 is 306057512216440636035370461297268629388588804173576999416776741259476533176716867465515291422477573349939147888701726368864263907759003154226842927906974559841225476930271954604008012215776252176854255965356903506788725264321896264299365204576448830388909753943489625436053225980776521270822437639449120128678675368305712293681943649956460498166450227716500185176546469340112226034729724066333258583506870150169794168850353752137554910289126407157154830282284937952636580145235233156936482233436799254594095276820608062232812387383880817049600000000000000000000000000000000000000000000000000000000000000000000000000\n"
     ]
    }
   ],
   "source": [
    "# The factorial function\n",
    "def factorial(n):\n",
    "    if n <= 1:\n",
    "        return 1\n",
    "    \n",
    "    return n * factorial(n - 1)\n",
    "\n",
    "# Get input from the user\n",
    "n = int(input(\"Enter number: \"))\n",
    "\n",
    "# Use the function to to calculate the factorial and print\n",
    "print(f\"The factorial of {n} is {factorial(n)}\")"
   ]
  },
  {
   "cell_type": "markdown",
   "metadata": {},
   "source": [
    "## Modules\n",
    "\n",
    "You have seen how you can reuse code in your program by defining functions once. What if you wanted to reuse a number of functions in other programs that you write, or that someone else writes? As you might have guessed, the answer is modules.\n",
    "\n",
    "A module can be *imported* by another program to make use of its functionality. This is how we can use the Python standard library and third party libraries. We have already seen this in previous example, for example when we used the square root function. Let's see this in more detail:"
   ]
  },
  {
   "cell_type": "code",
   "execution_count": 4,
   "metadata": {},
   "outputs": [
    {
     "name": "stdout",
     "output_type": "stream",
     "text": [
      "The square root of 2 is 1.4142135623730951\n"
     ]
    }
   ],
   "source": [
    "import math\n",
    "\n",
    "root_2 = math.sqrt(2)\n",
    "print(\"The square root of 2 is\", root_2)"
   ]
  },
  {
   "cell_type": "markdown",
   "metadata": {},
   "source": [
    "First, we *import* the `math` module using the `import` statement. Basically, this translates to use telling Python that we want to use this module. The `math` modules contains mathematical functionality (see `help(math)` for a list of function contained in this module).\n",
    "\n",
    "When Python executes the `import math` statement, it looks for the `math` module. In this case, it is one of the built-in modules, and hence Python knows where to find it. \n",
    "\n",
    "The `sqrt` variable in the `math` module is accessed using the dotted notation, that is `math.sqrt`. It clearly indicates that this name is part of the `math` module. Another advantage of this approach is that the name does not clash with any `sqrt` variable used in your program. \n",
    "\n",
    "### The `from ... import` statement\n",
    "\n",
    "If you want to directly import `sqrt` function into your program (to avoid the `math.` everytime for it), then you can use the `from math import sqrt` statement. In general, you should *avoid* using this statement and use the `import` statement instead since your program will avoid name clashes and will be more readable."
   ]
  },
  {
   "cell_type": "code",
   "execution_count": null,
   "metadata": {
    "collapsed": true
   },
   "outputs": [],
   "source": [
    "from math import sqrt\n",
    "\n",
    "root_2 = sqrt(2) # Note that here we're using sqrt directly\n",
    "print(\"The square root of 2 is\", root_2)"
   ]
  },
  {
   "cell_type": "markdown",
   "metadata": {},
   "source": [
    "***\n",
    "##### You can now work out worksheet 4\n",
    "\n",
    "***\n",
    "Back to [index](index.ipynb) page"
   ]
  }
 ],
 "metadata": {
  "anaconda-cloud": {},
  "kernelspec": {
   "display_name": "Python 3",
   "language": "python",
   "name": "python3"
  },
  "language_info": {
   "codemirror_mode": {
    "name": "ipython",
    "version": 3
   },
   "file_extension": ".py",
   "mimetype": "text/x-python",
   "name": "python",
   "nbconvert_exporter": "python",
   "pygments_lexer": "ipython3",
   "version": "3.8.2"
  }
 },
 "nbformat": 4,
 "nbformat_minor": 1
}
