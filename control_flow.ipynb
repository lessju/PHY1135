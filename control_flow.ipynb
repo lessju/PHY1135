{
 "cells": [
  {
   "cell_type": "markdown",
   "metadata": {},
   "source": [
    "# Control Flow\n",
    "\n",
    "In the programs we have seen till now, there has always been a series of statements faithfully executed by Python in exact top-down order. What if you wanted to change the flow of how it works? For example, you want the program to take some decisions and do different things on different situations, such as printing 'Good Morning' or 'Good Evening' depending on the time of the day? This is achieved using control flow statements. There are three control flow statements in Python - `if`, `for` and `while`\n",
    "\n",
    "## The `if` statement\n",
    "\n",
    "The `if` statement is used to check a condition: *if* the condition is true, we run a block of statements (called the *if-block*), *else* we process another block of statements (called the *else-block*). The *else* clause is optional. Take a look at the example below:"
   ]
  },
  {
   "cell_type": "code",
   "execution_count": null,
   "metadata": {},
   "outputs": [],
   "source": [
    "number = 23\n",
    "guess = int(input(\"Enter an integer: \"))\n",
    "\n",
    "if guess == number:\n",
    "    # New block starts here\n",
    "    print(\"Congratulations, you guessed the number\")\n",
    "    print(\"Pat yourself on the back\")\n",
    "elif guess < number:\n",
    "    # Another block\n",
    "    print(\"No, it is a little higher than that\")\n",
    "else:\n",
    "    # Another block\n",
    "    # You must have guessed > number to reach here\n",
    "    print(\"No, it is a little lower than that\")\n",
    "    \n",
    "# This last statement is always executed, after the \n",
    "# if statement is executed\n",
    "print('Done')"
   ]
  },
  {
   "cell_type": "markdown",
   "metadata": {},
   "source": [
    "In this program, we take guesses from the user and check if it is the number that we have. We set the variable `number` to any integer we want, say `23`. Then, we take the user's guess using the `input` function. Functions are just reusable pieces of programs, as we shall see later. \n",
    "\n",
    "Next we compare the guess of the user with the number we have chosen. If they are equal, we print a success message. Notice that we use indentation levels to tell Python which statements belong to which block. This is why indentation is so important in Python (assuming you are sticking to the \"consistent indentation\" rule).\n",
    "\n",
    "Notice how the `if` statement contains a colon at the end - we are indicating to Python that a block of statements follows.\n",
    "\n",
    "Then, we check if the guess is less than the number, and if so, we inform the user that they must guess a little higher than that. What we have used here is the `elif` clause which actually combines two related `if else-if else` statements into one combined `if-elif-else` statement. This makes the program easier and reduces the amount of indentation required. \n",
    "\n",
    "The `elif` and `else` statements must also have a colon at the end of the line followed by their corresponding block of statements (with proper indentation).\n",
    "\n",
    "You can have another `if` statement inside the if-block of an `if` statement and so on - this is called a nested `if` statement\n",
    "\n",
    "Remember that the `elif` and `else` parts are optional. A minimal valid `if` statement is:"
   ]
  },
  {
   "cell_type": "code",
   "execution_count": null,
   "metadata": {},
   "outputs": [],
   "source": [
    "if True:\n",
    "    print(\"Yes, it is true\")"
   ]
  },
  {
   "cell_type": "markdown",
   "metadata": {},
   "source": [
    "After Python has finished executing the complete `if` statement along with the associated `elif` and `else` clauses, it moves to the next statement in the block containing the `if` statement. In this case, it is the main block (where execution of the program starts), and the next statement is the `print('Done')` statement. After this, Python sees the end of the program and simply finishes up.\n",
    "\n",
    "Even though this is a very simple program, it points out a lot of things that you should notice. You will need to become aware of all these things initially, but after some practice you will become comfortable with them, and it will feel 'natural' to you.\n",
    "\n",
    "## Milestone: Quadratic Roots Revisited\n",
    "\n",
    "In the previous notebook you were asked to implement a program to compute the roots of a quadratic equation. Before, when we tried to calculate the square root of a negative error we got an error and Python stops executing. Now we can check whether the value which we're trying to square root is negative before actually doing the square root, and print a nicer error instead."
   ]
  },
  {
   "cell_type": "code",
   "execution_count": null,
   "metadata": {},
   "outputs": [],
   "source": [
    "# Import math functionality into our program\n",
    "from math import *\n",
    "\n",
    "# Ask the user for value for a, b and c\n",
    "a = float(input('Enter the value for a: '))\n",
    "b = float(input('Enter the value for b: '))\n",
    "c = float(input('Enter the value for c: '))\n",
    "\n",
    "# Calculate the part which we need to square root\n",
    "temp = b**2 - 4 * a * c\n",
    "\n",
    "# Check if temp is negative, if so we cannot calculate the roots\n",
    "if temp < 0:\n",
    "    print(\"Cannot calculate roots since they are complex\")\n",
    "\n",
    "# Otherwise, we calculate the roots and print them\n",
    "else:\n",
    "    x1 = (-b + sqrt(temp)) / (2 * a)\n",
    "    x2 = (-b - sqrt(temp)) / (2 * a)\n",
    "\n",
    "    # Output the results\n",
    "    print(f\"The roots are: {x1:.3} and {x2:.3}\")"
   ]
  },
  {
   "cell_type": "markdown",
   "metadata": {},
   "source": [
    "## The `while` Statement\n",
    "\n",
    "The `while` statement allows you to repeatedly execute a block of statements as long as a condition is true. A `while` statement is an example of what is called a *looping* statement. A `while` statement can have an optinal `else` clause:"
   ]
  },
  {
   "cell_type": "code",
   "execution_count": null,
   "metadata": {},
   "outputs": [],
   "source": [
    "number = 23\n",
    "number_guessed = False\n",
    "\n",
    "while not number_guessed:\n",
    "    guess = int(input(\"Enter an integer: \"))\n",
    "    if guess == number:\n",
    "        print(\"Congratulations, you guess the number.\")\n",
    "        number_guessed = True\n",
    "    elif guess < number:\n",
    "        print(\"No, it is a little higher than that\")\n",
    "    else:\n",
    "        print(\"No, it is a little lower than that\")\n",
    "else:\n",
    "    print(\"The while loop is over\")\n",
    "    \n",
    "print(\"Done\")"
   ]
  },
  {
   "cell_type": "markdown",
   "metadata": {},
   "source": [
    "In this program, we are still playing the guessing game, but the advantage is that the user is allowed to keep guessing until he guesses correctly - there is no need to repeatedly run the program for each guess as we have done in the previous section. This aptly demonstrates the use of the `while` statement.\n",
    "\n",
    "We move the `input` and `if` statement to inside the `while` loop and set the variable `number_guessed` to `False` before the while loop. First, we check if the variable `number_guessed` is `False` (by using the `not` operator) and then proceed to execute the corresponding *while-block*. After this block is executed, the condition is again checked (in this case the `not number_guessed` statement). If it is true, we execute the while-block again, otherwise we continue to execute the optional else-block and then continue to the next statement. \n",
    "\n",
    "The `else` block is executed when the `while` loop condition becomes `False` (that is, `number_guessed` is `True`, such that `not number_guessed` is `False`) - this may even be the first time that the condition is checked. If there is an `else` clause for a `while` loop, it is always executed unless you break out of the loop with a `break` statement.\n",
    "\n",
    "The `True` and `False` are called Boolean types and you can consider them to be equivalent to `1` and `0` respectively. \n",
    "\n",
    "## The `for` loop\n",
    "\n",
    "The `for..in` statement is another looping statement which *iterates* over a sequence of objects, that is goes through each item in a sequence. We will see more about sequences in detail in later chapters. What you need to know is that a sequence is just an ordered collection of elements. Take a look at the example below:"
   ]
  },
  {
   "cell_type": "code",
   "execution_count": null,
   "metadata": {},
   "outputs": [],
   "source": [
    "for number in range(1, 5):\n",
    "    print(number)\n",
    "else:\n",
    "    print(\"The for loop is over\")"
   ]
  },
  {
   "cell_type": "markdown",
   "metadata": {},
   "source": [
    "In this program we are printing a *sequence* of numbers. We generate this sequence of numbers using the built-in `range` function. What we do here is supply two numbers and `range` returns a sequence of numbers starting from the first number and up to the second number. For example, `range(1, 5)` gives the sequence `[1, 2, 3, 4]`. By default, `range` take a step count of 1. If we supply a third number to `range`, then that becomes the step count. For example, `range(1, 5, 2)` gives `[1, 3]`. Remember that the range extends *up to* the second number, that is it does **not** include the second number. So if the first number is x and second number is y, the sequence is $\\{i\\mid x,y,i\\;∈\\;ℕ\\;and\\;i\\;>=\\;x\\;and\\;i\\;<\\;y\\}$.\n",
    "\n",
    "The `for` loop then iterates over this range - `for number in range(1, 5)` is equivalent to `for number in [1, 2, 3, 4]` which is like assigning each number (or object) in the sequence to `number`, one at a time, and then executing the block of statements for each value of `number`. In this case, we just print the value in the block of statements. \n",
    "\n",
    "Remember that the `else` part is optional. When included, it is always executed once after the `for` loop is over, unless a `break` statement is encountered. \n",
    "\n",
    "Remember that the `for..in` loop works for any sequence. Here, we have a list of numbers generated by the built-in `range` function, but in general we can use any kind of sequence of any kind of objects! We will see some examples of these later on. \n",
    "\n",
    "### Example: Summation\n",
    "\n",
    "Write a simple program, which given a number by the user, calculates the summation for that number. So, for a given `n`, the program calculates:\n",
    "$$sum=\\sum_{i=0}^{n} i$$\n",
    "\n",
    "#### Using a for loop"
   ]
  },
  {
   "cell_type": "code",
   "execution_count": null,
   "metadata": {},
   "outputs": [],
   "source": [
    "# Get input from the user\n",
    "n = int(input(\"Enter the maximum integer: \"))\n",
    "\n",
    "# We need a variable to store the temporary summation \n",
    "# calculation and final result\n",
    "sum = 0\n",
    "\n",
    "# Use a for loop to calculate the summation\n",
    "for i in range(n + 1):\n",
    "    sum += i\n",
    "    \n",
    "# Print the result\n",
    "print(f\"The sum up to {n} is {sum}\")"
   ]
  },
  {
   "cell_type": "markdown",
   "metadata": {},
   "source": [
    "#### Using a while loop"
   ]
  },
  {
   "cell_type": "code",
   "execution_count": null,
   "metadata": {},
   "outputs": [],
   "source": [
    "# Get input from the user\n",
    "n = int(input(\"Enter the maximum integer: \"))\n",
    "\n",
    "# We need a variable to store the temporary summation \n",
    "# calculation and final result\n",
    "sum = 0\n",
    "\n",
    "# We need a counter to know how far we are in the loop\n",
    "i = 0;\n",
    "\n",
    "# Use a while loop to calculate the summation\n",
    "while i <= n:\n",
    "    sum += i\n",
    "    i += 1\n",
    "\n",
    "# Print the result\n",
    "print(f\"The sum up to {n} is {sum}\")"
   ]
  },
  {
   "cell_type": "markdown",
   "metadata": {},
   "source": [
    "## The `break` Statement\n",
    "\n",
    "The `break` statement is used to *break* out of a loop statement, that is stop the execution of a looping statement, even if the loop condition has not become `False` or the sequence of items has not been completely iterated over. An important note is that if you *break* out of a `for` or `while` loop, any corresponding `else` block is **not** executed. Have a look at the example below:"
   ]
  },
  {
   "cell_type": "code",
   "execution_count": null,
   "metadata": {},
   "outputs": [],
   "source": [
    "while True:\n",
    "    s = input(\"Enter something: \")\n",
    "    \n",
    "    if s == 'quit':\n",
    "        break\n",
    "        \n",
    "    print(f\"Length of {s} is {len(s)}\")\n",
    "    \n",
    "print('Done')"
   ]
  },
  {
   "cell_type": "markdown",
   "metadata": {},
   "source": [
    "In this program, we repeatedly take the user's input and print the length of each input each time. We are providing a special condition to stop the program by checking if the user input is `quit`. We stop the program by *breaking* out of the loop and reach the end of the program. The lenght of the string can be found using the build-in function **len** function. Remember that the `break` statement can be used with the `for` loop as well\n",
    "\n",
    "## The `continue` statement\n",
    "\n",
    "The `continue` statement is used to tell Python to skip the rest of the statements in the current loop block and *continue* to the next iteration of the loop. Have a look at the example below:"
   ]
  },
  {
   "cell_type": "code",
   "execution_count": null,
   "metadata": {},
   "outputs": [],
   "source": [
    "while True:\n",
    "    s = input(\"Enter something: \")\n",
    "    \n",
    "    if s == 'quit':\n",
    "        break\n",
    "        \n",
    "    if len(s) < 3:\n",
    "        print(\"Too small\")\n",
    "        continue\n",
    "        \n",
    "    print(\"Input is of sufficient length\")"
   ]
  },
  {
   "cell_type": "markdown",
   "metadata": {},
   "source": [
    "In this program, we accept input from the user, but we process the input string only if it is at least 3 characters long. So, we use the built-in `len` function to get the length, and if the length is less than 3 we skip the rest of the statements in the block by using the `continue` statement. Otherwise, the rest of the statements in the loop are executed, doing any kind of processing we want to do here. Note that the `continue` statement works with the `for` loop as well\n",
    "\n",
    "## Milestone: Prime Numbers\n",
    "\n",
    "Write a program to find out if a given number is prime. A prime number is an integer which contains no integer factors smaller than itself, except the trivial factor 1. The simplest way to check if a number is prime is to check if it is exactly divisible (remainder is 0) by any of the integers smaller than itself (except for 1). There are two variants of the implementation below (the second of which showcases the use of the `else` block of a for loop)."
   ]
  },
  {
   "cell_type": "code",
   "execution_count": null,
   "metadata": {},
   "outputs": [],
   "source": [
    "number = int(input(\"Enter the number to check: \"))\n",
    "\n",
    "# We need a variable to tell us whether the number is prime\n",
    "number_is_prime = True\n",
    "\n",
    "# Use a for loop to iterate through the numbers \n",
    "# from 2 till number-1\n",
    "for i in range(2, number):\n",
    "    # If the remainder of number from i is 0, then \n",
    "    # the number is not prime since we know it is not \n",
    "    # prime, we use break to stop execution\n",
    "    if number % i == 0:\n",
    "        number_is_prime = False\n",
    "        break\n",
    "\n",
    "# Print the result to screen\n",
    "if number_is_prime:\n",
    "    print(\"The number is prime\")\n",
    "else:\n",
    "    print(\"The number is not prime\")"
   ]
  },
  {
   "cell_type": "code",
   "execution_count": null,
   "metadata": {},
   "outputs": [],
   "source": [
    "number = int(input(\"Enter the number to check: \"))\n",
    "\n",
    "# Use a for loop to iterate through the numbers \n",
    "# from 2 till number-1\n",
    "for i in range(2, number):\n",
    "    # If the remainder of number from i is 0, then \n",
    "    # the number is not prime Since we know it is not\n",
    "    # prime, we use break to stop execution\n",
    "    if number % i == 0:\n",
    "        print(\"The number is not prime\")\n",
    "        break\n",
    "        \n",
    "# If we did not break in the for loop, then the else \n",
    "# block will be executed. This means that the number is prime\n",
    "else:\n",
    "    print(\"The number is prime\")"
   ]
  },
  {
   "cell_type": "markdown",
   "metadata": {},
   "source": [
    "***\n",
    "##### You can now work out worksheet 2\n",
    "\n",
    "***\n",
    "Back to [index](index.ipynb) page"
   ]
  }
 ],
 "metadata": {
  "anaconda-cloud": {},
  "kernelspec": {
   "display_name": "Python 3",
   "language": "python",
   "name": "python3"
  },
  "language_info": {
   "codemirror_mode": {
    "name": "ipython",
    "version": 3
   },
   "file_extension": ".py",
   "mimetype": "text/x-python",
   "name": "python",
   "nbconvert_exporter": "python",
   "pygments_lexer": "ipython3",
   "version": "3.8.5"
  }
 },
 "nbformat": 4,
 "nbformat_minor": 1
}
