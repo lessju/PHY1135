{
 "cells": [
  {
   "cell_type": "markdown",
   "metadata": {},
   "source": [
    "# PHY1135 - Introduction to Programming for Physicists\n",
    "\n",
    "Welcome to the PHY1135 - Introduction to Computational Physics. These notes concern the practical part of the unit (Python).\n",
    "\n",
    "### Notes\n",
    "- [Preliminaries](preliminaries.ipynb)\n",
    "- [Python Basics](python_basics.ipynb)\n",
    "- [Control Flow](control_flow.ipynb)\n",
    "- [Data Structures](data_types.ipynb)\n",
    "- [Functions](functions.ipynb)\n",
    "- [Files](files.ipynb)\n",
    "- [Numpy](numpy.ipynb)\n",
    "- [Matplotlib](matplotlib.ipynb)\n",
    "- [Sympy](sympy.ipynb)\n",
    "- [Pandas](pandas.ipynb)\n",
    "\n",
    "### Worksheets\n",
    "- [Worksheet 1](worksheets/worksheet_1.ipynb) - Python Basics\n",
    "- [Worksheet 2](worksheets/worksheet_2.ipynb) - Control Flow\n",
    "- [Worksheet 3](worksheets/worksheet_3.ipynb) - Data Structures\n",
    "- [Worksheet 4](worksheets/worksheet_4.ipynb) - Functions\n",
    "- [Worksheet 5](worksheets/worksheet_5.ipynb) - Files\n",
    "- [Worksheet 6](worksheets/worksheet_6.ipynb) - Numpy and Matplotlib\n",
    "- [Worksheet 7](worksheets/worksheet_7.ipynb) - Computational Physics\n",
    "\n",
    "### Resources\n",
    "\n",
    "- [Online Python Interpreter](https://repl.it/languages/python3)\n",
    "- [Python 3 Documentation](https://docs.python.org/3/)\n",
    "- [Python for Data Science Cheat Sheet](https://s3.amazonaws.com/assets.datacamp.com/blog_assets/PythonForDataScience.pdf)\n",
    "- [A Byte of Python](http://www.ibiblio.org/swaroopch/byteofpython/files/120/byteofpython_120.pdf) - These notes are based on this free book#\n",
    "- [Python Data Science Handbook](https://nbviewer.jupyter.org/github/jakevdp/PythonDataScienceHandbook/blob/master/notebooks/00.00-Preface.ipynb) - Free online data science with Python handbook. Some ntoes are based on this book.\n",
    "- [Computational Physics with Python](http://www.fizika.unios.hr/rf/wp-content/uploads/sites/67/2011/02/CPwP.pdf) - Course notes by Dr Eric Ayars from California State University\n",
    "- [A gallery of interesting Python Notebooks](https://github.com/jupyter/jupyter/wiki/A-gallery-of-interesting-Jupyter-Notebooks)\n",
    "- You can find plenty of other resources online, which are only a Google search away!"
   ]
  }
 ],
 "metadata": {
  "anaconda-cloud": {},
  "kernelspec": {
   "display_name": "Python 3",
   "language": "python",
   "name": "python3"
  },
  "language_info": {
   "codemirror_mode": {
    "name": "ipython",
    "version": 3
   },
   "file_extension": ".py",
   "mimetype": "text/x-python",
   "name": "python",
   "nbconvert_exporter": "python",
   "pygments_lexer": "ipython3",
   "version": "3.8.5"
  }
 },
 "nbformat": 4,
 "nbformat_minor": 2
}
