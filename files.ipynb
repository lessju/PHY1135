{
 "cells": [
  {
   "cell_type": "markdown",
   "metadata": {},
   "source": [
    "# Files\n",
    "\n",
    "You can open and use files for reading or writing by creating an object of the `file` class and using its `read`, `readline` or `write` methods appropriately to read from or write to the file. The ability to read from or write to the file depends on the mode you have specified for the file opening. Then finally, when you are finished with the file, you call the `close` method to tell Python that we are done using the file."
   ]
  },
  {
   "cell_type": "code",
   "execution_count": null,
   "metadata": {
    "collapsed": true
   },
   "outputs": [],
   "source": [
    "poem = '''\\\n",
    "Programming is fun\n",
    "When the work is done\n",
    "if you wanna make your work also funL\n",
    "    use Python!'''\n",
    "\n",
    "f = open(\"poem.txt\", \"w\")    # Open file for 'w'riting\n",
    "f.write(poem)                # Write text to file\n",
    "f.close()                    # Close the file\n",
    "\n",
    "f = open('poem.txt')         # If no mode is specified, 'r'ead mode is assumed by default\n",
    "\n",
    "# Read the contents of the file line by line, printing each line\n",
    "# When the length of the string returned by readlines() is 0\n",
    "# it means that you have reached the end of the file\n",
    "while True:\n",
    "    line = f.readlines()\n",
    "    if len(line) == 0:\n",
    "        break\n",
    "    print(line, end='')\n",
    "f.close()                    # Close the file"
   ]
  },
  {
   "cell_type": "markdown",
   "metadata": {},
   "source": [
    "First, open a file by using the built-in `open` function and specifying the name of the file and the mode in which we want to open the file. The mode can be a\n",
    "read mode (`’r’`), write mode (`’w’`) or append mode (`’a’`). We can also specify\n",
    "whether we are reading, writing, or appending in text mode (`’t’`) or binary\n",
    "mode (`’b’`). There are actually many more modes available and `help(open)`\n",
    "will give you more details about them. By default, `open()` considers the file to\n",
    "be a ’t’ext file and opens it in ’r’ead mode.\n",
    "\n",
    "In our example, we first open the file in write text mode and use the write\n",
    "method of the file object to write to the file and then we finally close the file.\n",
    "\n",
    "Next, we open the same file again for reading. We don’t need to specify a mode\n",
    "because ‘read text file’ is the default mode. We read in each line of the file using\n",
    "the `readline` method in a loop. This method returns a complete line including\n",
    "the newline character at the end of the line. When an empty string is returned,\n",
    "it means that we have reached the end of the file and we ‘break’ out of the loop.\n",
    "\n",
    "By default, the `print()` function prints the text as well as an automatic newline\n",
    "to the screen. We are suppressing the newline by specifying `end=''` because the\n",
    "line that is read from the file already ends with a newline character. Then, we\n",
    "\n",
    "finally closethe file.\n",
    "Now, check the contents of the poem.txt file to confirm that the program has\n",
    "indeed written to and read from that file.\n",
    "\n",
    "## Milestone: File Output\n",
    "\n",
    "Write a program which calculates all the prime numbers between 3 and 100, and writed the output to a file called `output.txt` rather than to screen. Only the number which are prime will be written to the file."
   ]
  },
  {
   "cell_type": "code",
   "execution_count": null,
   "metadata": {},
   "outputs": [],
   "source": [
    "# Create file for output\n",
    "f = open('output.txt', 'w')\n",
    "\n",
    "# Go through all the numbers between 3 and 100 (skip even numbers\n",
    "# since they are definitely not prime) and check whether they are prime\n",
    "for number in range(3, 100, 2):\n",
    "    number_is_prime = True\n",
    "    for divisor in range(3, number - 1, 2):\n",
    "        if number % divisor == 0:\n",
    "            number_is_prime = False\n",
    "            break\n",
    "            \n",
    "    # If prime, write to file\n",
    "    if number_is_prime:\n",
    "        f.write(f\"The number {number} is prime\\n\")\n",
    "        \n",
    "# Close when done\n",
    "f.close()\n",
    "\n",
    "# Print results from file\n",
    "f = open('output.txt')\n",
    "print(f.read())\n",
    "f.close()"
   ]
  },
  {
   "cell_type": "markdown",
   "metadata": {},
   "source": [
    "## `with` statement\n",
    "\n",
    "Python’s `with` statement is handy when you have two related operations which you’d like to execute as a pair, with a block of code in between. The classic example is opening a file, manipulating the file, then closing it:"
   ]
  },
  {
   "cell_type": "code",
   "execution_count": null,
   "metadata": {
    "collapsed": true
   },
   "outputs": [],
   "source": [
    "with open('output.txt', 'w') as f:\n",
    "    f.write('Hi there!')"
   ]
  },
  {
   "cell_type": "markdown",
   "metadata": {},
   "source": [
    "The above `with` statement will automatically close the file after the nested block of code. The advantage of using a with statement is that it is guaranteed to close the file no matter how the nested block exits. If something occurs before the end of the block, it will close the file before the error is shown to the user (or propagated upwards in case of an exception). If the nested block were to contain a return statement, or a continue or break statement, the with statement would automatically close the file in those cases, too."
   ]
  },
  {
   "cell_type": "markdown",
   "metadata": {},
   "source": [
    "## Comma Seperated Values (CSV) files\n",
    "\n",
    "CSV is a simple file format used to store tabular data, such as a spreadsheet or database. A CSV file stores tabular data (numbers and text) in plain text. Each line of the file is a data record. Each record consits of one or more fields, separated by commas. The use of the comma as a field separator is the source of the name of the file format. For working with CSV files in Python, there is an in-built module called csv.\n",
    "\n",
    "Let's start by creating a CSV file"
   ]
  },
  {
   "cell_type": "code",
   "execution_count": null,
   "metadata": {},
   "outputs": [],
   "source": [
    "# Import the csv module\n",
    "import csv\n",
    "\n",
    "# Field names\n",
    "fields = ['Name', 'Faculty', 'Year', 'Average']\n",
    " \n",
    "# Data rows of csv file\n",
    "rows = [ ['Matthew', 'Science', '2', '85'],\n",
    "         ['John', 'IT', '2', '76'],\n",
    "         ['Rita', 'Science', '2', '59'],\n",
    "         ['Josephine', 'Arts', '1', '89'],\n",
    "         ['Patrick', 'IT', '3', '63'],\n",
    "         ['Chantelle', 'Engineering', '2', '47']]\n",
    " \n",
    "# name of csv file\n",
    "filename = \"university_records.csv\"\n",
    " \n",
    "# Writing to csv file\n",
    "with open(filename, 'w') as csvfile:\n",
    "    # Creating a csv writer object\n",
    "    csvwriter = csv.writer(csvfile)\n",
    "     \n",
    "    # Writing the fields\n",
    "    csvwriter.writerow(fields)\n",
    "     \n",
    "    # Writing the data rows\n",
    "    csvwriter.writerows(rows)"
   ]
  },
  {
   "cell_type": "markdown",
   "metadata": {},
   "source": [
    "We can read back this file using the `csv` module:"
   ]
  },
  {
   "cell_type": "code",
   "execution_count": null,
   "metadata": {},
   "outputs": [],
   "source": [
    "# Import csv module\n",
    "import csv\n",
    " \n",
    "# CSV file name\n",
    "filename = \"university_records.csv\"\n",
    " \n",
    "# Initialize the titles and rows list\n",
    "fields = []\n",
    "rows = []\n",
    " \n",
    "# Read csv file\n",
    "with open(filename, 'r') as csvfile:\n",
    "    # Create a csv reader object\n",
    "    csvreader = csv.reader(csvfile)\n",
    "     \n",
    "    # Extract field names through first row\n",
    "    fields = next(csvreader)\n",
    " \n",
    "    # Extract each data row one by one\n",
    "    for row in csvreader:\n",
    "        rows.append(row)\n",
    " \n",
    "    # Get total number of rows\n",
    "    print(f\"Total number of rows:\\t{csvreader.line_num}\")\n",
    " \n",
    "# Print the field names using list comprehension\n",
    "print('Field names are:\\t' + ', '.join(field for field in fields))\n",
    " \n",
    "# Printing first 5 rows\n",
    "print('\\nFirst 5 rows are:\\n')\n",
    "for row in rows[:5]:\n",
    "    # Parsing each column of a row\n",
    "    for col in row:\n",
    "        print(\"%10s\"%col),\n",
    "    print('\\n')"
   ]
  },
  {
   "cell_type": "markdown",
   "metadata": {},
   "source": [
    "***\n",
    "##### You can now work out worksheet 5\n",
    "\n",
    "***\n",
    "Back to [index](index.ipynb) page"
   ]
  }
 ],
 "metadata": {
  "anaconda-cloud": {},
  "kernelspec": {
   "display_name": "Python 3",
   "language": "python",
   "name": "python3"
  },
  "language_info": {
   "codemirror_mode": {
    "name": "ipython",
    "version": 3
   },
   "file_extension": ".py",
   "mimetype": "text/x-python",
   "name": "python",
   "nbconvert_exporter": "python",
   "pygments_lexer": "ipython3",
   "version": "3.8.2"
  }
 },
 "nbformat": 4,
 "nbformat_minor": 1
}
