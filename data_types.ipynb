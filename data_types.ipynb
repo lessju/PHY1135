{
 "cells": [
  {
   "cell_type": "markdown",
   "metadata": {},
   "source": [
    "# Data Types\n",
    "\n",
    "Data structures are basically just that - they are structures which can hold some *data* together. In other words, they are used to store a collection of related data.\n",
    "\n",
    "There are four built-in data structures in Python - `list`, `tuple`, `dict` and `set`. We will see how to use each of them and how they make life easier for us.\n",
    "\n",
    "## Lists\n",
    "\n",
    "A `list` is a data structure that holds an ordered collection of items i.e. you can store a *sequence* of items in a list. This is easy to imagine if you can think of a shopping list where you have a list of items to buy, except that you probably have each item on a separate line in your shopping list whereas in Python you put commas in between them.\n",
    "\n",
    "The list of items should be enclosed in square brackets so that Python understands that you are specifying a list. Once you have created a list, you can add, remove or search for items in the list. Since we can add and remove items, we say that a list is a *mutable* data type i.e. this type can be altered."
   ]
  },
  {
   "cell_type": "code",
   "execution_count": 2,
   "metadata": {},
   "outputs": [],
   "source": [
    "# This is my shopping list\n",
    "shoplist = ['apple', 'mango', 'carrot', 'banana']"
   ]
  },
  {
   "cell_type": "markdown",
   "metadata": {},
   "source": [
    "The variable `shoplist` is a shopping list for someone who is going to the market. In shoplist, we only store strings of the names of the items to buy but you can add any kind of object to a list including numbers and even other lists."
   ]
  },
  {
   "cell_type": "code",
   "execution_count": 3,
   "metadata": {},
   "outputs": [
    {
     "name": "stdout",
     "output_type": "stream",
     "text": [
      "I have 4 items to purchase.\n"
     ]
    }
   ],
   "source": [
    "print(f'I have {len(shoplist)} items to purchase.')"
   ]
  },
  {
   "cell_type": "code",
   "execution_count": 3,
   "metadata": {},
   "outputs": [
    {
     "name": "stdout",
     "output_type": "stream",
     "text": [
      "These items are: apple mango carrot banana "
     ]
    }
   ],
   "source": [
    "# Note that end=' ' specified that we want a space after the print, not a new line\n",
    "print('These items are:', end=' ') \n",
    "for item in shoplist:\n",
    "    print(item, end=' ')"
   ]
  },
  {
   "cell_type": "markdown",
   "metadata": {},
   "source": [
    "We have used the a `for` loop to iterate through the items of the list. By now, you must have realised that a list is also a sequence. Notice the use of the `end` keyword argument to the `print` function to indicate\n",
    "that we want to end the output with a space instead of the usual line break."
   ]
  },
  {
   "cell_type": "code",
   "execution_count": 4,
   "metadata": {},
   "outputs": [
    {
     "name": "stdout",
     "output_type": "stream",
     "text": [
      "I also have to buy rice.\n",
      "My shopping list is now: ['apple', 'mango', 'carrot', 'banana', 'rice']\n"
     ]
    }
   ],
   "source": [
    "print('I also have to buy rice.')\n",
    "shoplist.append('rice')\n",
    "print('My shopping list is now:', shoplist)"
   ]
  },
  {
   "cell_type": "markdown",
   "metadata": {},
   "source": [
    "We add an item to the list using the `append` method of the list object. Then, we check that the item has been indeed added to the list by printing the contents of the list by simply passing the list to the `print` statement which prints it neatly."
   ]
  },
  {
   "cell_type": "code",
   "execution_count": 5,
   "metadata": {},
   "outputs": [
    {
     "name": "stdout",
     "output_type": "stream",
     "text": [
      "I will sort my list now\n",
      "Sorted shopping list is: ['apple', 'banana', 'carrot', 'mango', 'rice']\n"
     ]
    }
   ],
   "source": [
    "print('I will sort my list now')\n",
    "shoplist.sort()\n",
    "print('Sorted shopping list is:', shoplist)"
   ]
  },
  {
   "cell_type": "markdown",
   "metadata": {},
   "source": [
    "We `sort` the list by using the sort method of the list. It is important to understand that this method affects the list itself and does not return a modified list - this is different from the way strings work. This is what we mean by saying that lists are mutable and that strings are *immutable*."
   ]
  },
  {
   "cell_type": "code",
   "execution_count": 6,
   "metadata": {},
   "outputs": [
    {
     "name": "stdout",
     "output_type": "stream",
     "text": [
      "The first item I will buy is apple\n",
      "I bought the apple\n",
      "My shopping list is now: ['banana', 'carrot', 'mango', 'rice']\n"
     ]
    }
   ],
   "source": [
    "print('The first item I will buy is', shoplist[0])\n",
    "olditem = shoplist[0]\n",
    "del shoplist[0]\n",
    "print('I bought the', olditem)\n",
    "print('My shopping list is now:', shoplist)"
   ]
  },
  {
   "cell_type": "markdown",
   "metadata": {},
   "source": [
    "When we finish buying an item in the market, we want to remove it from\n",
    "the list. We achieve this by using the `del` statement. Here, we mention which\n",
    "item of the list we want to remove and the `del` statement removes it from the\n",
    "list for us. We specify that we want to remove the first item from the list and\n",
    "hence we use `del shoplist[0]` (remember that Python starts counting from 0).\n",
    "\n",
    "If you want to know all the methods defined by the list object, see `help(list)`\n",
    "for details.\n",
    "\n",
    "### List comprehension\n",
    "\n",
    "When programming, frequently we want to transform one type of data into another. As a simple example, consider the following code that computes square numbers:"
   ]
  },
  {
   "cell_type": "code",
   "execution_count": 7,
   "metadata": {},
   "outputs": [
    {
     "name": "stdout",
     "output_type": "stream",
     "text": [
      "[0, 1, 4, 9, 16]\n"
     ]
    }
   ],
   "source": [
    "nums = [0, 1, 2, 3, 4]\n",
    "squares = []\n",
    "for x in nums:\n",
    "    squares.append(x ** 2)\n",
    "print(squares)"
   ]
  },
  {
   "cell_type": "markdown",
   "metadata": {},
   "source": [
    "You can make this code simpler using a list comprehension"
   ]
  },
  {
   "cell_type": "code",
   "execution_count": 8,
   "metadata": {},
   "outputs": [
    {
     "name": "stdout",
     "output_type": "stream",
     "text": [
      "[0, 1, 4, 9, 16]\n"
     ]
    }
   ],
   "source": [
    "nums = [0, 1, 2, 3, 4]\n",
    "squares = [x ** 2 for x in nums]\n",
    "print(squares)"
   ]
  },
  {
   "cell_type": "markdown",
   "metadata": {},
   "source": [
    "List comprehensions can also contain conditions:"
   ]
  },
  {
   "cell_type": "code",
   "execution_count": 9,
   "metadata": {},
   "outputs": [
    {
     "name": "stdout",
     "output_type": "stream",
     "text": [
      "[0, 4, 16]\n"
     ]
    }
   ],
   "source": [
    "nums = [0, 1, 2, 3, 4]\n",
    "even_squares = [x ** 2 for x in nums if x % 2 == 0]\n",
    "print(even_squares)"
   ]
  },
  {
   "cell_type": "markdown",
   "metadata": {},
   "source": [
    "## Milestone: Mean & Variance\n",
    "\n",
    "Write a program to calculate the mean and variance of 1000 randomly generated numbers in the range [0, 1]. The mean $\\mu$ and variance $\\sigma$ of a series of  $n$ numbers is:\n",
    "\n",
    "$$\n",
    "\\begin{eqnarray}\n",
    "\\mu & = & \\frac{1}{n}\\sum^n_{i=1}{x_i} \\\\\n",
    "\\sigma & = & \\frac{1}{n}\\sum^n_{i=1}{(x_i-\\mu)^2} \n",
    "\\end{eqnarray}\n",
    "$$\n",
    "\n",
    "To implement the program above we need to know how to generate random numbers. For now we'll use a module from the `numpy` package. We'll be looking at `numpy` in more detail later on."
   ]
  },
  {
   "cell_type": "code",
   "execution_count": 4,
   "metadata": {},
   "outputs": [
    {
     "name": "stdout",
     "output_type": "stream",
     "text": [
      "Mean is 0.510 and variance is 0.085\n"
     ]
    }
   ],
   "source": [
    "import numpy as np\n",
    "\n",
    "# Generate 1000 random numbers between 0 and 1\n",
    "numbers = np.random.random(1000)\n",
    "\n",
    "# Calculate mean\n",
    "mean = 0\n",
    "for number in numbers:\n",
    "    mean += number\n",
    "mean /= len(numbers)\n",
    "\n",
    "# The below will calculate the mean as the one above\n",
    "# but uses the built-in function sum\n",
    "mean = sum(numbers) / len(numbers)\n",
    "\n",
    "# Calculate variance\n",
    "variance = 0\n",
    "for number in numbers:\n",
    "    variance += (number - mean)**2\n",
    "variance /= len(numbers)\n",
    "\n",
    "# Print result (mean should be ~0.5 and variance should be ~0.08)\n",
    "print(f\"Mean is {mean:.3f} and variance is {variance:.3f}\")"
   ]
  },
  {
   "cell_type": "code",
   "execution_count": 5,
   "metadata": {},
   "outputs": [
    {
     "name": "stdout",
     "output_type": "stream",
     "text": [
      "Mean is 0.494 and variance is 0.084\n"
     ]
    }
   ],
   "source": [
    "# This implementation will give the same output as the one above,\n",
    "# however uses list comprehension for the variance\n",
    "import numpy as np\n",
    "\n",
    "numbers = np.random.random(1000)\n",
    "\n",
    "mean = sum(numbers) / len(numbers)\n",
    "variance = sum([(number - mean)**2 for number in numbers]) / len(numbers)\n",
    "\n",
    "print(f\"Mean is {mean:.3f} and variance is {variance:.3f}\")"
   ]
  },
  {
   "cell_type": "code",
   "execution_count": 6,
   "metadata": {},
   "outputs": [
    {
     "name": "stdout",
     "output_type": "stream",
     "text": [
      "Mean is 0.492 and variance is 0.085\n"
     ]
    }
   ],
   "source": [
    "# This implementation uses numpy to calculate the mean and variance, just to\n",
    "# get a glimpse at the power of numpy\n",
    "import numpy as np\n",
    "\n",
    "numbers = np.random.random(1000)\n",
    "\n",
    "print(f\"Mean is {numbers.mean():.3f} and variance is {numbers.var():.3f}\")"
   ]
  },
  {
   "cell_type": "markdown",
   "metadata": {},
   "source": [
    "## Milestone: Matrix Multiplication\n",
    "\n",
    "Write a program which multiplies two 3x3 matrices $A$ and $B$ and stores the result in a separate matrix $C$. Matrix multiplication is given by:\n",
    "\n",
    "$$ C_{ij} = \\sum^n_{k=1}{A_{ik}B_{kj}} $$\n",
    "\n",
    "where $i=1,...m$ and $j=1,...m$. The product $C$ is an array in two dimensions in which $C_{ij}$ is the scalar product of row $i$ of matrix $A$ and column $j$ of matrix $B$. The scalar product is in turb given by:\n",
    "\n",
    "$$s=\\sum^n_{i=1}{a_ib_i} $$\n",
    "\n",
    "A matrix is a 2D entity, so ideally we represent it in something which can express this \"2D-ness\". Remember that a list can store any sequence of objects in it, even other lists. So we can store a matrix as a list of lists."
   ]
  },
  {
   "cell_type": "code",
   "execution_count": 3,
   "metadata": {},
   "outputs": [
    {
     "name": "stdout",
     "output_type": "stream",
     "text": [
      "[[30, 36, 42], [66, 81, 96], [102, 126, 150]]\n"
     ]
    }
   ],
   "source": [
    "# Create matrices\n",
    "A = [[1, 2, 3], [4, 5, 6], [7, 8, 9]]\n",
    "B = [[1, 2, 3], [4, 5, 6], [7, 8, 9]]\n",
    "C = [[0, 0, 0], [0, 0, 0], [0, 0, 0]]\n",
    "\n",
    "# Perform the multiplication\n",
    "for i in range(3):\n",
    "    for j in range(3):\n",
    "        for k in range(3):\n",
    "            C[i][j] += A[i][k] * B[k][j]\n",
    "            \n",
    "print(C)"
   ]
  },
  {
   "cell_type": "code",
   "execution_count": 4,
   "metadata": {},
   "outputs": [
    {
     "name": "stdout",
     "output_type": "stream",
     "text": [
      "[[ 30  36  42]\n",
      " [ 66  81  96]\n",
      " [102 126 150]]\n"
     ]
    }
   ],
   "source": [
    "# This implementation uses numpy to perform the matrix multiplication\n",
    "from numpy import matrix\n",
    "\n",
    "A = matrix([[1, 2, 3], [4, 5, 6], [7, 8, 9]])\n",
    "B = matrix([[1, 2, 3], [4, 5, 6], [7, 8, 9]])\n",
    "\n",
    "print(A * B)"
   ]
  },
  {
   "cell_type": "markdown",
   "metadata": {},
   "source": [
    "## Tuples\n",
    "\n",
    "Tuples are used to hold together multiple objects. Think of them as similar to\n",
    "lists, but without the extensive functionality that the list class gives you. One major feature of tuples is that they are **immutable** like strings i.e. you cannot modify tuples.\n",
    "\n",
    "Tuples are defined by specifying items separated by commas within a pair of parentheses. \n",
    "\n",
    "Tuples are usually used in cases where a statement or a user-defined function\n",
    "can safely assume that the collection of values i.e. the tuple of values used will not change."
   ]
  },
  {
   "cell_type": "code",
   "execution_count": null,
   "metadata": {},
   "outputs": [],
   "source": [
    "zoo = ('python', 'elephant', 'penguin')\n",
    "print('Number of animals in the zoo is:', len(zoo))\n",
    "\n",
    "new_zoo = ('monkey', 'camel', zoo)\n",
    "print('Number of cages in the new zoo is:', len(new_zoo))\n",
    "print('All animals in new zoo are:', new_zoo)\n",
    "print('Animals brought from old zoo are:', new_zoo[2])\n",
    "\n",
    "print('Last animal brought from old zoo is:', new_zoo[2][2])\n",
    "print('Number of animals in the new zoo is:', len(new_zoo) - 1 + len(new_zoo[2]))"
   ]
  },
  {
   "cell_type": "markdown",
   "metadata": {},
   "source": [
    "The variable `zoo` refers to a tuple of items. We see that the len function can be used to get the length of the tuple. This also indicates that a tuple is a sequence as well. \n",
    "\n",
    "We are now shifting these animals to a new zoo since the old zoo is being closed. Therefore, the `new_zoo` tuple contains some animals which are already there along with the animals brought over from the old zoo. Back to reality, note that a tuple within a tuple does not lose its identity.\n",
    "\n",
    "We can access the items in the tuple by specifying the item’s position within\n",
    "a pair of square brackets just like we did for lists. This is called the indexing operator. We access the third item in `new_zoo` by specifying `new_zoo[2]` and we access the third item within the third item in the new_zoo tuple by specifying `new_zoo[2][2]`.\n",
    "\n",
    "An empty tuple is constructed by an empty pair of parentheses such as `myempty = ()`. However, a tuple with a single item is not so simple. You have to specify it using a comma following the first (and only) item so that Python can differentiate between a tuple and a pair of parentheses surrounding the object in an expression i.e. you have to specify `mytuple = (2 , )` if you mean you want a tuple containing the item `2`."
   ]
  },
  {
   "cell_type": "code",
   "execution_count": null,
   "metadata": {},
   "outputs": [],
   "source": [
    "# Empty tuple\n",
    "mytuple = ()\n",
    "print(\"Tuple size:\", len(mytuple))\n",
    "\n",
    "# Tuple with one item (notice the comma)\n",
    "mytuple = ('one', )\n",
    "print(\"Tuple size:\", len(mytuple))"
   ]
  },
  {
   "cell_type": "markdown",
   "metadata": {},
   "source": [
    "## Dictionaries\n",
    "\n",
    "A dictionary is like an address-book where you can find the address or contact\n",
    "details of a person by knowing only his/her name i.e. we associate `keys` (name)\n",
    "with `values` (details). Note that the key must be unique just like you cannot\n",
    "find out the correct information if you have two persons with the exact same\n",
    "name.\n",
    "\n",
    "Note that you can use only immutable objects (like strings) for the keys of a\n",
    "dictionary but you can use either immutable or mutable objects for the values of\n",
    "the dictionary. This basically translates to say that you should use only simple\n",
    "objects for keys.\n",
    "\n",
    "Pairs of keys and values are specified in a dictionary by using the notation `d\n",
    "= {key1 : value1, key2 : value2 }`. Notice that the key-value pairs are\n",
    "separated by a colon and the pairs are separated themselves by commas and all\n",
    "this is enclosed in a pair of curly braces.\n",
    "Remember that key-value pairs in a dictionary are not ordered in any manner.\n",
    "If you want a particular order, then you will have to sort them yourself before\n",
    "using it.\n",
    "\n",
    "The dictionaries that you will be using are instances/objects of the dict class."
   ]
  },
  {
   "cell_type": "code",
   "execution_count": 8,
   "metadata": {},
   "outputs": [
    {
     "name": "stdout",
     "output_type": "stream",
     "text": [
      "Alessio's address is alessio.magro@um.edu.mt\n"
     ]
    }
   ],
   "source": [
    "# 'ab' is short for 'a'ddress 'b'ook\n",
    "ab = { 'Alessio' : 'alessio.magro@um.edu.mt',\n",
    "       'Zeppi'   : 'zeppi_hafi@golhajt.com.mt',\n",
    "       'Natalie' : 'natalie.portman@inyourdreams.org',\n",
    "       'Tom'     : 'tom.tailor@hotmail.com'\n",
    "}\n",
    "\n",
    "print(\"Alessio's address is\", ab['Alessio'])"
   ]
  },
  {
   "cell_type": "markdown",
   "metadata": {},
   "source": [
    "We create the dictionary `ab` using the notation already discussed. We then access\n",
    "key-value pairs by specifying the key using the indexing operator as discussed in the context of lists and tuples. Observe the simple syntax."
   ]
  },
  {
   "cell_type": "code",
   "execution_count": 9,
   "metadata": {},
   "outputs": [
    {
     "name": "stdout",
     "output_type": "stream",
     "text": [
      "\n",
      "There are 3 contacts in the address-book\n",
      "\n"
     ]
    }
   ],
   "source": [
    "# Deleting a key-value pair\n",
    "del ab['Zeppi']\n",
    "print(f'\\nThere are {len(ab)} contacts in the address-book\\n')"
   ]
  },
  {
   "cell_type": "markdown",
   "metadata": {},
   "source": [
    "We can delete key-value pairs using our old friend - the `del` statement. We simply specify the dictionary and the indexing operator for the key to be removed and pass it to the `del` statement. There is no need to know the value corresponding to the key for this operation."
   ]
  },
  {
   "cell_type": "code",
   "execution_count": 10,
   "metadata": {},
   "outputs": [
    {
     "name": "stdout",
     "output_type": "stream",
     "text": [
      "Contact Alessio at alessio.magro@um.edu.mt\n",
      "Contact Natalie at natalie.portman@inyourdreams.org\n",
      "Contact Tom at tom.tailor@hotmail.com\n"
     ]
    }
   ],
   "source": [
    "for name, address in ab.items():\n",
    "    print(f'Contact {name} at {address}')"
   ]
  },
  {
   "cell_type": "markdown",
   "metadata": {},
   "source": [
    "We can access each key-value pair of the dictionary using the items method of\n",
    "the dictionary which returns a list of tuples where each tuple contains a pair of items - the key followed by the value. We retrieve this pair and assign it to the variables `name` and `address` correspondingly for each pair using the `for..in`\n",
    "loop and then print these values in the for-block."
   ]
  },
  {
   "cell_type": "code",
   "execution_count": null,
   "metadata": {},
   "outputs": [],
   "source": [
    "# Adding a key-value pair\n",
    "ab['Guido'] = 'guido@python.org'"
   ]
  },
  {
   "cell_type": "markdown",
   "metadata": {},
   "source": [
    "We can add new key-value pairs by simply using the indexing operator to access\n",
    "a key and assign that value, as we have done for Guido in the above case."
   ]
  },
  {
   "cell_type": "code",
   "execution_count": null,
   "metadata": {},
   "outputs": [],
   "source": [
    "if 'Guido' in ab:\n",
    "    print(\"\\nGuido's address is\", ab['Guido'])"
   ]
  },
  {
   "cell_type": "markdown",
   "metadata": {},
   "source": [
    "We can check if a key-value pair exists using the `in` operator.\n",
    "\n",
    "You can also use dictionary comprehension to easilty construct dictionaries:"
   ]
  },
  {
   "cell_type": "code",
   "execution_count": null,
   "metadata": {},
   "outputs": [],
   "source": [
    "nums = [0, 1, 2, 3, 4]\n",
    "even_num_to_square = {x: x ** 2 for x in nums if x % 2 == 0}\n",
    "print(even_num_to_square)"
   ]
  },
  {
   "cell_type": "markdown",
   "metadata": {},
   "source": [
    "For the list of methods of the `dict` class, see `help(dict)`.\n",
    "\n",
    "## Sequences\n",
    "\n",
    "Lists, tuples and strings are examples of sequences, but what are sequences and\n",
    "what is so special about them?\n",
    "\n",
    "The major features are *membership tests*, (i.e. the in and not in expressions)\n",
    "and *indexing operations*, which allow us to fetch a particular item in the\n",
    "sequence directly.\n",
    "\n",
    "The three types of sequences mentioned above - lists, tuples and strings, also\n",
    "have a *slicing* operation which allows us to retrieve a slice of the sequence i.e. a part of the sequence."
   ]
  },
  {
   "cell_type": "code",
   "execution_count": 13,
   "metadata": {},
   "outputs": [],
   "source": [
    "shoplist = ['apple', 'mango', 'carrot', 'banana']\n",
    "name = 'alessio'\n",
    "\n",
    "# Indexing or ’Subscription’ operation\n",
    "print('Item 0 is', shoplist[0])\n",
    "print('Item 1 is', shoplist[1])\n",
    "print('Item 2 is', shoplist[2])\n",
    "print('Item 3 is', shoplist[3])\n",
    "print('Item -1 is', shoplist[-1])\n",
    "print('Item -2 is', shoplist[-2])\n",
    "print('Character 0 is', name[0])\n",
    "\n",
    "# Print an empty line\n",
    "print()\n",
    "\n",
    "# Slicing on a list\n",
    "print('Item 1 to 3 is', shoplist[1:3])\n",
    "print('Item 2 to end is', shoplist[2:])\n",
    "print('Item 1 to -1 is', shoplist[1:-1])\n",
    "print('Item start to end is', shoplist[:])\n",
    "\n",
    "print()\n",
    "\n",
    "# Slicing on a string\n",
    "print('characters 1 to 3 is', name[1:3])\n",
    "print('characters 2 to end is', name[2:])\n",
    "print('characters 1 to -1 is', name[1:-1])\n",
    "print('characters start to end is', name[:])"
   ]
  },
  {
   "cell_type": "markdown",
   "metadata": {},
   "source": [
    "First, we see how to use indexes to get individual items of a sequence. This is\n",
    "also referred to as the subscription operation. Whenever you specify a number\n",
    "to a sequence within square brackets as shown above, Python will fetch you the\n",
    "item corresponding to that position in the sequence. Remember that Python\n",
    "starts counting numbers from 0. Hence, `shoplist[0]` fetches the first item and\n",
    "`shoplist[3]` fetches the fourth item in the `shoplist` sequence.\n",
    "\n",
    "The index can also be a negative number, in which case, the position is calculated from the end of the sequence. Therefore, `shoplist[-1]` refers to the last item in the sequence and `shoplist[-2]` fetches the second last item in the sequence.\n",
    "\n",
    "The slicing operation is used by specifying the name of the sequence followed by\n",
    "an optional pair of numbers separated by a colon within square brackets. Note\n",
    "that this is very similar to the indexing operation you have been using till now. Remember the numbers are optional but the colon isn’t.\n",
    "\n",
    "The first number (before the colon) in the slicing operation refers to the position from where the slice starts and the second number (after the colon) indicates where the slice will stop at. If the first number is not specified, Python will start at the beginning of the sequence. If the second number is left out, Python will stop at the end of the sequence. Note that the slice returned starts at the start position and will end just before the end position i.e. the start position is included but the end position is excluded from the sequence slice.\n",
    "\n",
    "Thus, `shoplist[1:3]` returns a slice of the sequence starting at position 1,\n",
    "includes position 2 but stops at position 3 and therefore a slice of two items is returned. Similarly, `shoplist[:]` returns a copy of the whole sequence.\n",
    "\n",
    "You can also do slicing with negative positions. Negative numbers are used for\n",
    "positions from the end of the sequence. For example, `shoplist[:-1]` will return\n",
    "a slice of the sequence which excludes the last item of the sequence but contains everything else.\n",
    "\n",
    "You can also provide a third argument for the slice, which is the step for the\n",
    "slicing (by default, the step size is 1):"
   ]
  },
  {
   "cell_type": "code",
   "execution_count": null,
   "metadata": {},
   "outputs": [],
   "source": [
    "shoplist = ['apple', 'mango', 'carrot', 'banana']\n",
    "print(shoplist[::1])\n",
    "print(shoplist[::2])\n",
    "print(shoplist[::3])\n",
    "print(shoplist[::-1])"
   ]
  },
  {
   "cell_type": "markdown",
   "metadata": {},
   "source": [
    "Notice that when the step is 2, we get the items with position 0, 2, . . . When\n",
    "the step size is 3, we get the items with position 0, 3, etc.\n",
    "\n",
    "Try various combinations of such slice specifications using the Python interpreter interactively i.e. the prompt so that you can see the results immediately. The great thing about sequences is that you can access tuples, lists and strings all in the same way!\n",
    "\n",
    "## Sets\n",
    "\n",
    "Sets are *unordered* collections of simple objects. These are used when the\n",
    "existence of an object in a collection is more important than the order or how\n",
    "many times it occurs.\n",
    "\n",
    "Using sets, you can test for membership, whether it is a subset of another set,\n",
    "find the intersection between two sets, and so on."
   ]
  },
  {
   "cell_type": "code",
   "execution_count": 15,
   "metadata": {},
   "outputs": [],
   "source": [
    "numbers = {1, 2, 3, 4, 5, 6}\n",
    "\n",
    "# The above is the same as\n",
    "numbers = set([1, 2, 3, 4, 5, 6])\n",
    "print(numbers)"
   ]
  },
  {
   "cell_type": "code",
   "execution_count": 16,
   "metadata": {},
   "outputs": [],
   "source": [
    "# Check for membership\n",
    "print(1 in numbers)\n",
    "print(10 in numbers)"
   ]
  },
  {
   "cell_type": "code",
   "execution_count": 17,
   "metadata": {},
   "outputs": [],
   "source": [
    "# Adding to a set\n",
    "numbers.add(7)\n",
    "print(numbers)"
   ]
  },
  {
   "cell_type": "code",
   "execution_count": 18,
   "metadata": {},
   "outputs": [],
   "source": [
    "# Removing from a set\n",
    "numbers.remove(7)\n",
    "print(numbers)"
   ]
  },
  {
   "cell_type": "code",
   "execution_count": 19,
   "metadata": {},
   "outputs": [],
   "source": [
    "set_1 = {1, 2, 3}\n",
    "set_2 = {2, 3, 4}\n",
    "\n",
    "# Set intersection (same as 'set_1 & set_2')\n",
    "print(set_1.intersection(set_2))"
   ]
  },
  {
   "cell_type": "code",
   "execution_count": 20,
   "metadata": {},
   "outputs": [],
   "source": [
    "# Set union (same as 'set_1 | set_2`)\n",
    "print(set_1.union(set_2))"
   ]
  },
  {
   "cell_type": "code",
   "execution_count": 21,
   "metadata": {},
   "outputs": [],
   "source": [
    "# Set difference (same as '`'set_1 - set_2')\n",
    "print(set_1.difference(set_2))"
   ]
  },
  {
   "cell_type": "code",
   "execution_count": 22,
   "metadata": {},
   "outputs": [],
   "source": [
    "# Check superset\n",
    "print(set_1.issuperset({1, 2}))"
   ]
  },
  {
   "cell_type": "code",
   "execution_count": 24,
   "metadata": {},
   "outputs": [],
   "source": [
    "# Check subset\n",
    "set_3 = {1, 2}\n",
    "print(set_3.issubset(set_1))"
   ]
  },
  {
   "cell_type": "markdown",
   "metadata": {},
   "source": [
    "***\n",
    "##### You can now work out worksheet 3\n",
    "\n",
    "***\n",
    "Back to [index](index.ipynb) page"
   ]
  }
 ],
 "metadata": {
  "anaconda-cloud": {},
  "kernelspec": {
   "display_name": "Python 3",
   "language": "python",
   "name": "python3"
  },
  "language_info": {
   "codemirror_mode": {
    "name": "ipython",
    "version": 3
   },
   "file_extension": ".py",
   "mimetype": "text/x-python",
   "name": "python",
   "nbconvert_exporter": "python",
   "pygments_lexer": "ipython3",
   "version": "3.8.2"
  }
 },
 "nbformat": 4,
 "nbformat_minor": 1
}
